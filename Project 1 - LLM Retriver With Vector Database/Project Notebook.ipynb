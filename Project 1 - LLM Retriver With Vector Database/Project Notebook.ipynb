{
 "cells": [
  {
   "cell_type": "markdown",
   "metadata": {},
   "source": [
    "### הורדת מסמכי נוהל בנקאי תקין מבנק ישראל\n",
    "כל המסמכין הורדו מהכתובת:\n",
    "https://www.boi.org.il/roles/supervisionregulation/nbt/"
   ]
  },
  {
   "cell_type": "code",
   "execution_count": 18,
   "metadata": {},
   "outputs": [],
   "source": [
    "import requests\n",
    "from bs4 import BeautifulSoup\n",
    "from urllib.parse import urlparse, urljoin\n",
    "import os\n",
    "import json\n",
    "from tqdm import tqdm\n",
    "import time"
   ]
  },
  {
   "cell_type": "code",
   "execution_count": 2,
   "metadata": {},
   "outputs": [],
   "source": [
    "def get_pdf_data(url):\n",
    "    try:\n",
    "        response = requests.get(url)\n",
    "        if response.status_code == 200:\n",
    "            soup = BeautifulSoup(response.content, 'html.parser')\n",
    "            pdf_data = {}\n",
    "            for row in soup.find_all('tr'):\n",
    "                title_elem = row.find('td')\n",
    "                date_elem = row.find('td', {'data-order': True})\n",
    "                link_elem = row.find('a')\n",
    "\n",
    "                # Check if all elements are found\n",
    "                if title_elem and link_elem:\n",
    "                    title = title_elem.get_text(strip=True)\n",
    "                    file_name = link_elem.get_text(strip=True)\n",
    "                    pdf_url = urljoin(url, link_elem['href'])\n",
    "                    if date_elem:\n",
    "                        date = date_elem.get_text(strip=True)\n",
    "                    else:\n",
    "                        date = None\n",
    "\n",
    "                    # Use the file name as the key for the dictionary\n",
    "                    pdf_data[file_name+\".pdf\"] = {\n",
    "                        'title': title,\n",
    "                        'date': date,\n",
    "                        'pdf_url': pdf_url\n",
    "                    }\n",
    "            return pdf_data\n",
    "        else:\n",
    "            print(f\"Failed to fetch HTML from {url}. Status code: {response.status_code}\")\n",
    "            return []\n",
    "    except Exception as e:\n",
    "        print(f\"An error occurred: {str(e)}\")\n",
    "        return []"
   ]
  },
  {
   "cell_type": "code",
   "execution_count": 10,
   "metadata": {},
   "outputs": [],
   "source": [
    "def save_pdf(file_name, pdf_url, folder_path):\n",
    "    try:\n",
    "        response = requests.get(pdf_url)\n",
    "        if response.status_code == 200:\n",
    "            file_path = os.path.join(folder_path, file_name)\n",
    "            with open(file_path, 'wb') as f:\n",
    "                f.write(response.content)\n",
    "            print(f\"PDF saved successfully: {file_path}\")\n",
    "            return True\n",
    "        else:\n",
    "            print(f\"Failed to fetch PDF from {pdf_url}. Status code: {response.status_code}\")\n",
    "            return False\n",
    "    except Exception as e:\n",
    "        print(f\"An error occurred while saving PDF: {str(e)}\")\n",
    "        return False"
   ]
  },
  {
   "cell_type": "code",
   "execution_count": 11,
   "metadata": {},
   "outputs": [],
   "source": [
    "base_url = \"https://www.boi.org.il/roles/supervisionregulation/nbt/\"\n",
    "folder_path = \"pdf_folder\""
   ]
  },
  {
   "cell_type": "code",
   "execution_count": 12,
   "metadata": {},
   "outputs": [
    {
     "name": "stdout",
     "output_type": "stream",
     "text": [
      "Folder 'PDF_folder2' created.\n"
     ]
    }
   ],
   "source": [
    "# Create folder if it doesn't exist\n",
    "if not os.path.exists(folder_path):\n",
    "    os.makedirs(folder_path)\n",
    "    print(f\"Folder '{folder_path}' created.\")"
   ]
  },
  {
   "cell_type": "code",
   "execution_count": null,
   "metadata": {},
   "outputs": [],
   "source": [
    "start_time = time.time()\n",
    "successful_saves = 0\n",
    "pdf_data = get_pdf_data(base_url)\n",
    "for file_name, pdf_info in tqdm(pdf_data.items(), desc=\"Saving PDFs\"):\n",
    "    pdf_url = pdf_info['pdf_url']\n",
    "    print(file_name+\" PDF URL:\", pdf_url)\n",
    "    if save_pdf(file_name, pdf_url, folder_path):\n",
    "        successful_saves += 1\n",
    "print(f\"Total files saved successfully: {successful_saves} out of: {len(pdf_data.items())} urls  found in the website\")\n",
    "end_time = time.time()\n",
    "print(f\"Total time taken: {end_time - start_time} seconds\")"
   ]
  },
  {
   "cell_type": "code",
   "execution_count": 83,
   "metadata": {},
   "outputs": [],
   "source": [
    "with open('pdf_data2.json', 'w', encoding='utf-8') as json_file:\n",
    "    json.dump(pdf_data, json_file, ensure_ascii=False)"
   ]
  },
  {
   "cell_type": "code",
   "execution_count": 84,
   "metadata": {},
   "outputs": [
    {
     "data": {
      "text/plain": [
       "{'202.pdf': {'title': 'ההון הפיקוחי',\n",
       "  'date': '04/02/2021',\n",
       "  'pdf_url': 'https://www.boi.org.il/media/e3hc5jxy/202.pdf'},\n",
       " '203.pdf': {'title': 'הגישה הסטנדרטית - סיכון אשראי',\n",
       "  'date': '15/08/2022',\n",
       "  'pdf_url': 'https://www.boi.org.il/media/pmtpdcby/203_15.pdf'},\n",
       " '204.pdf': {'title': 'גישת הדירוגים הפנימיים לסיכון אשראי',\n",
       "  'date': '21/10/2015',\n",
       "  'pdf_url': 'https://www.boi.org.il/media/dekn2add/204.pdf'},\n",
       " '205.pdf': {'title': 'איגוח',\n",
       "  'date': '30/05/2013',\n",
       "  'pdf_url': 'https://www.boi.org.il/media/443hgn34/205.pdf'},\n",
       " '206.pdf': {'title': 'סיכון תפעולי',\n",
       "  'date': '09/07/2012',\n",
       "  'pdf_url': 'https://www.boi.org.il/media/wy0fpk15/206.pdf'},\n",
       " '208.pdf': {'title': 'סיכון שוק',\n",
       "  'date': '20/06/2019',\n",
       "  'pdf_url': 'https://www.boi.org.il/media/zsupfad2/208.pdf'},\n",
       " '211.pdf': {'title': 'הערכת נאותות הלימות ההון',\n",
       "  'date': '30/05/2013',\n",
       "  'pdf_url': 'https://www.boi.org.il/media/wlpjjxyf/211.pdf'},\n",
       " '301.pdf': {'title': 'דירקטוריון',\n",
       "  'date': '23/02/2023',\n",
       "  'pdf_url': 'https://www.boi.org.il/media/xiscjmue/301.pdf'},\n",
       " '302.pdf': {'title': 'רואה החשבון המבקר של תאגיד בנקאי',\n",
       "  'date': '01/09/2007',\n",
       "  'pdf_url': 'https://www.boi.org.il/media/qlrhef43/302.pdf'},\n",
       " '303.pdf': {'title': 'תקשורת של רואה חשבון מבקר עם הגורמים המופקדים על בקרת העל בתאגיד בנקאי',\n",
       "  'date': '01/10/2010',\n",
       "  'pdf_url': 'https://www.boi.org.il/media/ig5pon2x/303.pdf'},\n",
       " '304.pdf': {'title': 'רואה החשבון והמידע הנלווה לדוחות הכספיים',\n",
       "  'date': '01/12/1995',\n",
       "  'pdf_url': 'https://www.boi.org.il/media/shbjhzg4/304.pdf'},\n",
       " '304A.pdf': {'title': 'רואה החשבון המבקר- עריכת ביקורת וסקירה בהתאם לתקנים מסוימים שנקבעו בארה\"ב',\n",
       "  'date': '13/10/2016',\n",
       "  'pdf_url': 'https://www.boi.org.il/media/np0lvpli/304a.pdf'},\n",
       " '305.pdf': {'title': 'חשבונאי ראשי',\n",
       "  'date': '01/07/1998',\n",
       "  'pdf_url': 'https://www.boi.org.il/media/ecllud2z/305.pdf'},\n",
       " '307.pdf': {'title': 'פונקציית ביקורת פנימית',\n",
       "  'date': '30/09/2021',\n",
       "  'pdf_url': 'https://www.boi.org.il/media/e25gdbnq/307.pdf'},\n",
       " '308.pdf': {'title': 'ציות ופונקציית הציות בתאגיד הבנקאי',\n",
       "  'date': '30/09/2021',\n",
       "  'pdf_url': 'https://www.boi.org.il/media/1xdf0b3e/308.pdf'},\n",
       " '309.pdf': {'title': 'בקרות ונהלים לגבי הגילוי ובקרה פנימית על דיווח כספי',\n",
       "  'date': '01/09/2008',\n",
       "  'pdf_url': 'https://www.boi.org.il/media/q1sftveb/309.pdf'},\n",
       " '311.pdf': {'title': 'ניהול סיכון אשראי',\n",
       "  'date': '07/11/2023',\n",
       "  'pdf_url': 'https://www.boi.org.il/media/uf5if2gs/311.pdf'},\n",
       " '312.pdf': {'title': 'עסקי תאגיד בנקאי עם אנשים קשורים',\n",
       "  'date': '29/06/2023',\n",
       "  'pdf_url': 'https://www.boi.org.il/media/0kilmkjb/312.pdf'},\n",
       " '313.pdf': {'title': 'מגבלות על חבות של לווה ושל קבוצת לווים',\n",
       "  'date': '30/07/2023',\n",
       "  'pdf_url': 'https://www.boi.org.il/media/gcmlved0/313.pdf'},\n",
       " '314.pdf': {'title': 'הערכה נאותה של סיכוני אשראי ומדידה נאותה של חובות',\n",
       "  'date': '04/02/2021',\n",
       "  'pdf_url': 'https://www.boi.org.il/media/v3ijv1si/314.pdf'},\n",
       " '315.pdf': {'title': 'מגבלת חבות ענפית',\n",
       "  'date': '27/12/2021',\n",
       "  'pdf_url': 'https://www.boi.org.il/media/do5plsse/315.pdf'},\n",
       " '318.pdf': {'title': 'מאגר מידע על בטחונות',\n",
       "  'date': '05/08/2013',\n",
       "  'pdf_url': 'https://www.boi.org.il/media/ojhjeipt/318.pdf'},\n",
       " '320.pdf': {'title': 'הבטחת תשואה על השקעות',\n",
       "  'date': '01/12/1995',\n",
       "  'pdf_url': 'https://www.boi.org.il/media/dqzbbnm1/320.pdf'},\n",
       " '321.pdf': {'title': 'חיתום הנפקות של ניירות ערך',\n",
       "  'date': '01/10/2010',\n",
       "  'pdf_url': 'https://www.boi.org.il/media/3c4jnhxa/321.pdf'},\n",
       " '322.pdf': {'title': 'פעילות מערכת הבנקאות בשוק ההון',\n",
       "  'date': '01/01/2001',\n",
       "  'pdf_url': 'https://www.boi.org.il/media/xzqbe0ma/322.pdf'},\n",
       " '323.pdf': {'title': 'מימון רכישת אמצעי שליטה בתאגידים',\n",
       "  'date': '28/04/2015',\n",
       "  'pdf_url': 'https://www.boi.org.il/media/1nln2vbx/323.pdf'},\n",
       " '325.pdf': {'title': 'ניהול מסגרות אשראי בחשבונות עובר ושב',\n",
       "  'date': '30/12/2020',\n",
       "  'pdf_url': 'https://www.boi.org.il/media/4hshzbs4/325.pdf'},\n",
       " '326.pdf': {'title': 'ליווי פיננסי',\n",
       "  'date': '30/07/2012',\n",
       "  'pdf_url': 'https://www.boi.org.il/media/f3dbpcha/326.pdf'},\n",
       " '331.pdf': {'title': 'חלוקת דיבידנד על ידי תאגידים בנקאיים',\n",
       "  'date': '15/01/2013',\n",
       "  'pdf_url': 'https://www.boi.org.il/media/mi5jgkb3/331.pdf'},\n",
       " '332.pdf': {'title': 'רכישה עצמית על ידי תאגידים בנקאיים',\n",
       "  'date': '30/09/2021',\n",
       "  'pdf_url': 'https://www.boi.org.il/media/gqupkf5u/332.pdf'},\n",
       " '337.pdf': {'title': 'פעילות בשוק מעו\"ף',\n",
       "  'date': '01/10/2010',\n",
       "  'pdf_url': 'https://www.boi.org.il/media/bablmfst/337.pdf'},\n",
       " '339.pdf': {'title': 'ניהול סיכוני שוק',\n",
       "  'date': '30/09/2021',\n",
       "  'pdf_url': 'https://www.boi.org.il/media/u1edg5tc/339.pdf'},\n",
       " '342.pdf': {'title': 'ניהול סיכון נזילות',\n",
       "  'date': '28/09/2014',\n",
       "  'pdf_url': 'https://www.boi.org.il/media/4g3dixpz/342.pdf'},\n",
       " '351.pdf': {'title': 'מעילות של עובדים ונושאי משרה',\n",
       "  'date': '28/09/2016',\n",
       "  'pdf_url': 'https://www.boi.org.il/media/1dndutv2/351.pdf'},\n",
       " '352.pdf': {'title': 'ביטוח בנקאי',\n",
       "  'date': '01/12/1995',\n",
       "  'pdf_url': 'https://www.boi.org.il/media/503jy41i/352.pdf'},\n",
       " '353.pdf': {'title': 'בקרה על הוצאת ערבויות על ידי תאגיד בנקאי',\n",
       "  'date': '30/09/2021',\n",
       "  'pdf_url': 'https://www.boi.org.il/media/sk4gnjyh/353.pdf'},\n",
       " '354.pdf': {'title': 'אימות חשבונות של לקוחות',\n",
       "  'date': '29/11/2023',\n",
       "  'pdf_url': 'https://www.boi.org.il/media/2yslb4uj/354.pdf'},\n",
       " '355.pdf': {'title': 'ניהול המשכיות עסקית',\n",
       "  'date': '30/09/2021',\n",
       "  'pdf_url': 'https://www.boi.org.il/media/moklktcz/355.pdf'},\n",
       " '356.pdf': {'title': 'הוצאת מסמכים ממשרדי התאגידים הבנקאיים',\n",
       "  'date': '01/12/1995',\n",
       "  'pdf_url': 'https://www.boi.org.il/media/atsg2jgi/356.pdf'},\n",
       " '357.pdf': {'title': 'ניהול טכנולוגיית המידע',\n",
       "  'date': '29/12/2020',\n",
       "  'pdf_url': 'https://www.boi.org.il/media/3xrl41dv/357.pdf'},\n",
       " '358.pdf': {'title': 'ניהול עסקים מחוץ למשרדי התאגיד הבנקאי',\n",
       "  'date': '01/12/1995',\n",
       "  'pdf_url': 'https://www.boi.org.il/media/204lurdw/358.pdf'},\n",
       " '360.pdf': {'title': 'רוטציה וחופשה רציפה',\n",
       "  'date': '01/01/2004',\n",
       "  'pdf_url': 'https://www.boi.org.il/media/t0cfh2o4/360.pdf'},\n",
       " '401.pdf': {'title': 'ימי פתיחה של משרדי התאגידים הבנקאיים',\n",
       "  'date': '26/03/2023',\n",
       "  'pdf_url': 'https://www.boi.org.il/media/mbdfchm3/401.pdf'},\n",
       " '402.pdf': {'title': 'יום עסקים בתאגידים בנקאיים',\n",
       "  'date': '01/12/2011',\n",
       "  'pdf_url': 'https://www.boi.org.il/media/xbnhawjx/402.pdf'},\n",
       " '403.pdf': {'title': 'הטבות ללקוחות',\n",
       "  'date': '11/07/2016',\n",
       "  'pdf_url': 'https://www.boi.org.il/media/pemdc3mx/403.pdf'},\n",
       " '404.pdf': {'title': 'הטבות לעובדים של לקוח',\n",
       "  'date': '01/12/1995',\n",
       "  'pdf_url': 'https://www.boi.org.il/media/rr4l5tqa/404.pdf'},\n",
       " '405.pdf': {'title': 'חקירות משטרתיות',\n",
       "  'date': '01/12/1995',\n",
       "  'pdf_url': 'https://www.boi.org.il/media/wwmfx3ug/405.pdf'},\n",
       " '406.pdf': {'title': 'שירותים בנקאיים לעולים חדשים',\n",
       "  'date': '30/09/2021',\n",
       "  'pdf_url': 'https://www.boi.org.il/media/0q4n35eq/406.pdf'},\n",
       " '407.pdf': {'title': 'השקעה על חשבון לקוח ללא הסכמתו המפורשת',\n",
       "  'date': '01/12/1995',\n",
       "  'pdf_url': 'https://www.boi.org.il/media/5pdbz3qh/407.pdf'},\n",
       " '408.pdf': {'title': 'שיקים בנקאיים נושאי ריבית',\n",
       "  'date': '01/12/1995',\n",
       "  'pdf_url': 'https://www.boi.org.il/media/xokmpfue/408.pdf'},\n",
       " '409.pdf': {'title': 'חיוב לקוחות בשכר טרחה של עורך דין',\n",
       "  'date': '01/12/1995',\n",
       "  'pdf_url': 'https://www.boi.org.il/media/vfmnmr1h/409.pdf'},\n",
       " '410.pdf': {'title': 'התרמת לקוחות על ידי עובדי התאגידים הבנקאיים',\n",
       "  'date': '01/12/1995',\n",
       "  'pdf_url': 'https://www.boi.org.il/media/bqkllldv/410.pdf'},\n",
       " '413.pdf': {'title': 'ניתוק הקשר עם שוכרי כספות',\n",
       "  'date': '01/12/1995',\n",
       "  'pdf_url': 'https://www.boi.org.il/media/jl2n4khr/413.pdf'},\n",
       " '414.pdf': {'title': 'גילוי עלות שירותים בניירות ערך',\n",
       "  'date': '03/04/2014',\n",
       "  'pdf_url': 'https://www.boi.org.il/media/auchp0mi/414.pdf'},\n",
       " '415.pdf': {'title': 'נהלים בנושא עמלות',\n",
       "  'date': '01/02/2008',\n",
       "  'pdf_url': 'https://www.boi.org.il/media/n2dlnqyf/415.pdf'},\n",
       " '416.pdf': {'title': 'חשבונות קטינים',\n",
       "  'date': '01/12/2002',\n",
       "  'pdf_url': 'https://www.boi.org.il/media/d32dirqr/416.pdf'},\n",
       " '417.pdf': {'title': 'פעילות תאגיד בנקאי במערכת סגורה',\n",
       "  'date': '29/04/2012',\n",
       "  'pdf_url': 'https://www.boi.org.il/media/zjkhrfxh/417.pdf'},\n",
       " '419.pdf': {'title': 'שמירת מסמכים',\n",
       "  'date': '01/01/2006',\n",
       "  'pdf_url': 'https://www.boi.org.il/media/wjhnlhwv/419.pdf'},\n",
       " '431.pdf': {'title': 'פנקסי שיקים',\n",
       "  'date': '01/09/2011',\n",
       "  'pdf_url': 'https://www.boi.org.il/media/pxaje3no/431.pdf'},\n",
       " '432.pdf': {'title': 'העברת פעילות וסגירת חשבון של לקוח',\n",
       "  'date': '30/09/2021',\n",
       "  'pdf_url': 'https://www.boi.org.il/media/pgyndhdn/432.pdf'},\n",
       " '433.pdf': {'title': 'רישום שגוי בחשבון הלקוח',\n",
       "  'date': '01/12/1995',\n",
       "  'pdf_url': 'https://www.boi.org.il/media/wcqdk3yp/433.pdf'},\n",
       " '434.pdf': {'title': 'חשבונות משותפים - סעיף \"היוותרות בחיים\"',\n",
       "  'date': '13/06/2023',\n",
       "  'pdf_url': 'https://www.boi.org.il/media/a4nkg54d/434.pdf'},\n",
       " '437.pdf': {'title': 'חיוב במס הכנסה ובעמלות במטבע חוץ',\n",
       "  'date': '01/12/1995',\n",
       "  'pdf_url': 'https://www.boi.org.il/media/qlojflzh/437.pdf'},\n",
       " '438.pdf': {'title': 'קיזוז כנגד תכניות חסכון',\n",
       "  'date': '01/12/1995',\n",
       "  'pdf_url': 'https://www.boi.org.il/media/ekyp14cn/438.pdf'},\n",
       " '439.pdf': {'title': 'חיובים על פי הרשאה',\n",
       "  'date': '27/12/2021',\n",
       "  'pdf_url': 'https://www.boi.org.il/media/opue4bvf/439.pdf'},\n",
       " '440.pdf': {'title': 'חישוב ריבית בפיקדון פדיום (פח\"ק)',\n",
       "  'date': '01/08/1998',\n",
       "  'pdf_url': 'https://www.boi.org.il/media/m1lftbsz/440.pdf'},\n",
       " '441.pdf': {'title': 'אחזור מידע על ידי לקוחות',\n",
       "  'date': '01/11/2002',\n",
       "  'pdf_url': 'https://www.boi.org.il/media/rywm2xfg/441.pdf'},\n",
       " '442.pdf': {'title': 'משיכת מזומנים ממכשירי בנק אוטומטיים',\n",
       "  'date': '01/12/2005',\n",
       "  'pdf_url': 'https://www.boi.org.il/media/qiuf5o5y/442.pdf'},\n",
       " '451.pdf': {'title': 'נהלים למתן הלוואות לדיור',\n",
       "  'date': '19/07/2023',\n",
       "  'pdf_url': 'https://www.boi.org.il/media/utld2tgp/451.pdf'},\n",
       " '452.pdf': {'title': 'נהלים לניהול הלוואות',\n",
       "  'date': '01/12/1995',\n",
       "  'pdf_url': 'https://www.boi.org.il/media/jtynvkyw/452.pdf'},\n",
       " '453.pdf': {'title': 'ערבויות צד שלישי לטובת תאגיד בנקאי',\n",
       "  'date': '30/04/2014',\n",
       "  'pdf_url': 'https://www.boi.org.il/media/powh225f/453.pdf'},\n",
       " '454.pdf': {'title': 'עמלת פרעון מוקדם של הלוואה שלא לדיור',\n",
       "  'date': '11/07/2016',\n",
       "  'pdf_url': 'https://www.boi.org.il/media/tjmllmor/454.pdf'},\n",
       " '455.pdf': {'title': 'העמדת אשראי לרכישת נכסים פיננסיים',\n",
       "  'date': '01/12/1995',\n",
       "  'pdf_url': 'https://www.boi.org.il/media/5ceeeho4/455.pdf'},\n",
       " '461.pdf': {'title': 'פעילות תאגיד בנקאי כברוקר דילר',\n",
       "  'date': '07/03/2024',\n",
       "  'pdf_url': 'https://www.boi.org.il/media/megfu3u3/461_2.pdf'},\n",
       " '462.pdf': {'title': 'השקעות לקוחות בנכסים פיננסיים באמצעות מנהלי תיקים',\n",
       "  'date': '06/10/2018',\n",
       "  'pdf_url': 'https://www.boi.org.il/media/kbhjqeuw/462.pdf'},\n",
       " '471.pdf': {'title': 'תיקון וביטול רישומים על ידי חברות כרטיסי אשראי',\n",
       "  'date': '01/01/2001',\n",
       "  'pdf_url': 'https://www.boi.org.il/media/itzgvgsv/471.pdf'},\n",
       " '350.pdf': {'title': 'ניהול סיכון תפעולי',\n",
       "  'date': '30/09/2021',\n",
       "  'pdf_url': 'https://www.boi.org.il/media/i2xmk3hi/350.pdf'},\n",
       " '209.pdf': {'title': 'טיפול בפוזיציות לא נזילות',\n",
       "  'date': '01/05/2012',\n",
       "  'pdf_url': 'https://www.boi.org.il/media/f1je4ylk/209.pdf'},\n",
       " '470.pdf': {'title': 'כרטיסי חיוב',\n",
       "  'date': '12/01/2020',\n",
       "  'pdf_url': 'https://www.boi.org.il/media/wo2n3irs/470.pdf'},\n",
       " '201.pdf': {'title': 'מבוא תחולה וחישוב דרישות',\n",
       "  'date': '01/03/2020',\n",
       "  'pdf_url': 'https://www.boi.org.il/media/nijdewc0/201.pdf'},\n",
       " '310.pdf': {'title': 'ניהול סיכונים',\n",
       "  'date': '26/02/2023',\n",
       "  'pdf_url': 'https://www.boi.org.il/media/vyeljfas/310_3.pdf'},\n",
       " '333.pdf': {'title': 'סיכון ריבית בתיק הבנקאי (ייכנס לתוקף ביום 1/7/2025)',\n",
       "  'date': '20/12/2023',\n",
       "  'pdf_url': 'https://www.boi.org.il/media/zu2lr2um/333_3.pdf'},\n",
       " '299.pdf': {'title': 'ההון הפיקוחי הוראות מעבר',\n",
       "  'date': '02/12/2020',\n",
       "  'pdf_url': 'https://www.boi.org.il/media/q3pj5f4y/299.pdf'},\n",
       " '421.pdf': {'title': 'הפחתה או תוספת בשיעורי ריבית',\n",
       "  'date': '31/12/2013',\n",
       "  'pdf_url': 'https://www.boi.org.il/media/pwcogjaw/421.pdf'},\n",
       " '301A.pdf': {'title': 'מדיניות תגמול בתאגיד בנקאי',\n",
       "  'date': '10/04/2022',\n",
       "  'pdf_url': 'https://www.boi.org.il/media/epbffxfx/301a.pdf'},\n",
       " '422.pdf': {'title': 'פתיחת חשבון עובר ושב ביתרת זכות וניהול חשבון',\n",
       "  'date': '29/03/2023',\n",
       "  'pdf_url': 'https://www.boi.org.il/media/qplnii52/422.pdf'},\n",
       " '329.pdf': {'title': 'מגבלות למתן הלוואות לדיור',\n",
       "  'date': '27/12/2021',\n",
       "  'pdf_url': 'https://www.boi.org.il/media/awzpw01q/329.pdf'},\n",
       " '308A.pdf': {'title': 'טיפול בתלונות הציבור',\n",
       "  'date': '30/09/2021',\n",
       "  'pdf_url': 'https://www.boi.org.il/media/4slmbb1z/308a.pdf'},\n",
       " '221.pdf': {'title': 'יחס כיסוי הנזילות',\n",
       "  'date': '31/10/2022',\n",
       "  'pdf_url': 'https://www.boi.org.il/media/yb3mzqxc/221.pdf'},\n",
       " '425.pdf': {'title': 'דוחות שנתיים ללקוחות התאגידים הבנקאיים',\n",
       "  'date': '13/06/2022',\n",
       "  'pdf_url': 'https://www.boi.org.il/media/guxn3v4s/425.pdf'},\n",
       " '361.pdf': {'title': 'ניהול הגנת הסייבר',\n",
       "  'date': '30/09/2021',\n",
       "  'pdf_url': 'https://www.boi.org.il/media/sopi0wsc/361.pdf'},\n",
       " '327.pdf': {'title': 'ניהול הלוואות ממונפות',\n",
       "  'date': '28/04/2015',\n",
       "  'pdf_url': 'https://www.boi.org.il/media/iwhbwm0j/327.pdf'},\n",
       " '218.pdf': {'title': 'יחס מינוף',\n",
       "  'date': '20/12/2023',\n",
       "  'pdf_url': 'https://www.boi.org.il/media/cd3ook1i/218.pdf'},\n",
       " '423.pdf': {'title': 'שירות מסלולים',\n",
       "  'date': '21/06/2015',\n",
       "  'pdf_url': 'https://www.boi.org.il/media/vltfzvaz/423.pdf'},\n",
       " '472.pdf': {'title': 'סולקים וסליקת עסקאות בכרטיסי חיוב',\n",
       "  'date': '30/09/2021',\n",
       "  'pdf_url': 'https://www.boi.org.il/media/q4dd3lq5/472.pdf'},\n",
       " '367.pdf': {'title': 'בנקאות בתקשורת',\n",
       "  'date': '30/09/2021',\n",
       "  'pdf_url': 'https://www.boi.org.il/media/hivblz1r/367.pdf'},\n",
       " '436.pdf': {'title': 'מיזם לאיתור פיקדונות ללא תנועה וחשבונות של נפטרים',\n",
       "  'date': '30/09/2021',\n",
       "  'pdf_url': 'https://www.boi.org.il/media/vdbphuk1/436.pdf'},\n",
       " '400.pdf': {'title': 'סגירת סניפי בנק וצמצום שירותי טלר',\n",
       "  'date': '09/01/2017',\n",
       "  'pdf_url': 'https://www.boi.org.il/media/rzaf142m/400.pdf'},\n",
       " '450.pdf': {'title': 'הליכי גביית חובות',\n",
       "  'date': '30/09/2021',\n",
       "  'pdf_url': 'https://www.boi.org.il/media/ltfhs4zd/450.pdf'},\n",
       " '362.pdf': {'title': 'מחשוב ענן',\n",
       "  'date': '13/06/2022',\n",
       "  'pdf_url': 'https://www.boi.org.il/media/y3thgmut/362.pdf'},\n",
       " '329A.pdf': {'title': 'יועצי משכנתאות',\n",
       "  'date': '13/09/2017',\n",
       "  'pdf_url': 'https://www.boi.org.il/media/ncchosn3/329a.pdf'},\n",
       " '430.pdf': {'title': 'שימוש במידע לפי חוק שיקים ללא כיסוי, ומענה לפניות אודות הגבלה מיוחדת',\n",
       "  'date': '24/09/2017',\n",
       "  'pdf_url': 'https://www.boi.org.il/media/qaekcqr4/430.pdf'},\n",
       " '330.pdf': {'title': 'ניהול סיכון אשראי הטמון בפעילות מסחר של לקוחות במכשירים נגזרים ובניירות ערך',\n",
       "  'date': '23/10/2017',\n",
       "  'pdf_url': 'https://www.boi.org.il/media/ggkpqu3m/330.pdf'},\n",
       " '363.pdf': {'title': 'ניהול סיכוני סייבר בשרשרת אספקה',\n",
       "  'date': '30/09/2021',\n",
       "  'pdf_url': 'https://www.boi.org.il/media/s0wgx0xe/363.pdf'},\n",
       " '306.pdf': {'title': 'פיקוח על שלוחות בחו\"ל',\n",
       "  'date': '30/09/2021',\n",
       "  'pdf_url': 'https://www.boi.org.il/media/rgld5xlm/306.pdf'},\n",
       " '306A.pdf': {'title': 'שליטה או בעלות עניין בתאגידים  לא ריאליים שאינם בנקים',\n",
       "  'date': '30/09/2021',\n",
       "  'pdf_url': 'https://www.boi.org.il/media/rxsd0qav/306a.pdf'},\n",
       " '449.pdf': {'title': 'פישוט הסכמים ללקוח',\n",
       "  'date': '13/06/2022',\n",
       "  'pdf_url': 'https://www.boi.org.il/media/jjvpsmt5/449.pdf'},\n",
       " '359A.pdf': {'title': 'מיקור חוץ',\n",
       "  'date': '30/09/2021',\n",
       "  'pdf_url': 'https://www.boi.org.il/media/xtsdoioc/359a.pdf'},\n",
       " '426.pdf': {'title': 'מתן מענה טלפוני אנושי מקצועי',\n",
       "  'date': '29/03/2023',\n",
       "  'pdf_url': 'https://www.boi.org.il/media/hpbeoclb/426.pdf'},\n",
       " '448.pdf': {'title': 'העברת פעילות פיננסית של לקוח בין בנקים באופן מקוון',\n",
       "  'date': '30/09/2021',\n",
       "  'pdf_url': 'https://www.boi.org.il/media/m4pjakit/448.pdf'},\n",
       " '368 נספח.pdf': {'title': 'נספח הנחיות (אנגלית)',\n",
       "  'date': '16/02/2021',\n",
       "  'pdf_url': 'https://www.boi.org.il/media/s1qnndqu/נספח-א.pdf'},\n",
       " '480.pdf': {'title': 'התאמות להוראות ניהול בנקאי תקין החלות על תאגיד בנקאי חדש',\n",
       "  'date': '13/06/2022',\n",
       "  'pdf_url': 'https://www.boi.org.il/media/bjbnnoes/480.pdf'},\n",
       " '250.pdf': {'title': 'התאמות להוראות ניהול בנקאי תקין לצורך התמודדות עם וירוס הקורונה (הוראת שעה)',\n",
       "  'date': '15/05/2022',\n",
       "  'pdf_url': 'https://www.boi.org.il/media/i0udhyzb/250.pdf'},\n",
       " '443.pdf': {'title': 'פקדונות ללא תנועה וחשבונות שבעליהם נפטרו',\n",
       "  'date': '30/09/2021',\n",
       "  'pdf_url': 'https://www.boi.org.il/media/vdvloiym/443.pdf'},\n",
       " '311A.pdf': {'title': 'ניהול אשראי צרכני',\n",
       "  'date': '30/09/2021',\n",
       "  'pdf_url': 'https://www.boi.org.il/media/5jwbcemv/311a.pdf'},\n",
       " '420.pdf': {'title': 'משלוח הודעות בתקשורת - תיכנס לתוקף ביום 6.6.2022',\n",
       "  'date': '13/06/2022',\n",
       "  'pdf_url': 'https://www.boi.org.il/media/dhrfjwky/420.pdf'},\n",
       " '222.pdf': {'title': 'יחס מימון יציב נטו',\n",
       "  'date': '31/10/2022',\n",
       "  'pdf_url': 'https://www.boi.org.il/media/dwajifsq/222.pdf'},\n",
       " '250A.pdf': {'title': 'מעבר מריבית לייבור',\n",
       "  'date': '03/10/2021',\n",
       "  'pdf_url': 'https://www.boi.org.il/media/4u2ntxgl/250a.pdf'},\n",
       " '314A.pdf': {'title': 'ניהול הסדרי חוב ותהליכי גבייה של חובות מהותיים בקשיים',\n",
       "  'date': '03/10/2021',\n",
       "  'pdf_url': 'https://www.boi.org.il/media/yvbg2xev/314a.pdf'},\n",
       " '100.pdf': {'title': 'מבוא לקובץ הוראות ניהול בנקאי תקין',\n",
       "  'date': '03/10/2021',\n",
       "  'pdf_url': 'https://www.boi.org.il/media/pttixpa5/100.pdf'},\n",
       " '100A.pdf': {'title': 'תוכן עניינים כללי',\n",
       "  'date': '03/10/2021',\n",
       "  'pdf_url': 'https://www.boi.org.il/media/020imygk/100aמונגש.pdf'},\n",
       " '203A.pdf': {'title': 'טיפול בסיכון אשראי של צד נגדי',\n",
       "  'date': '15/03/2022',\n",
       "  'pdf_url': 'https://www.boi.org.il/media/isrlsv2s/203a.pdf'},\n",
       " '208A.pdf': {'title': 'התאמת שווי בגין סיכון אשראי',\n",
       "  'date': '26/12/2021',\n",
       "  'pdf_url': 'https://www.boi.org.il/media/olvdc4ex/208a.pdf'},\n",
       " '204A.pdf': {'title': 'גישת IRB – רכיבי סיכון',\n",
       "  'date': '01/12/2021',\n",
       "  'pdf_url': 'https://www.boi.org.il/media/jojljq4i/204a.pdf'},\n",
       " '460.pdf': {'title': 'הצגת נתוני פעילות בפיקדון ניירות ערך',\n",
       "  'date': '13/06/2022',\n",
       "  'pdf_url': 'https://www.boi.org.il/media/rauj0a4n/460.pdf'},\n",
       " '427.pdf': {'title': 'שירותי תשלום מתקדמים',\n",
       "  'date': '26/12/2022',\n",
       "  'pdf_url': 'https://www.boi.org.il/media/fmgf2o51/427.pdf'},\n",
       " '336.pdf': {'title': 'מגבלות על שעבוד נכסי תאגיד בנקאי',\n",
       "  'date': '30/06/2021',\n",
       "  'pdf_url': 'https://www.boi.org.il/media/ihkfcy4q/336.pdf'},\n",
       " '329B.pdf': {'title': 'מכירת הלוואות לדיור ושיתופי פעולה להעמדת הלוואות לדיור',\n",
       "  'date': '06/10/2022',\n",
       "  'pdf_url': 'https://www.boi.org.il/media/00xbm5n5/329b.pdf'},\n",
       " '368.pdf': {'title': 'יישום תקן של בנקאות פתוחה בישראל',\n",
       "  'date': '07/04/2024',\n",
       "  'pdf_url': 'https://www.boi.org.il/media/2h1jrza3/368_6.pdf'},\n",
       " '366.pdf': {'title': 'דיווח על אירוע כשל טכנולוגי ואירועי סייבר',\n",
       "  'date': '23/01/2023',\n",
       "  'pdf_url': 'https://www.boi.org.il/media/05ibacmg/366_4-מונגש.pdf'},\n",
       " '501.pdf': {'title': 'ניהול מערך שירות ותמיכה ללקוחות',\n",
       "  'date': '29/03/2023',\n",
       "  'pdf_url': 'https://www.boi.org.il/media/mrndwaj4/501.pdf'},\n",
       " '345.pdf': {'title': 'עקרונות לניהול אפקטיבי של סיכונים פיננסיים שקשורים לאקלים',\n",
       "  'date': '12/06/2023',\n",
       "  'pdf_url': 'https://www.boi.org.il/media/fmmirxub/345.pdf'},\n",
       " '411.pdf': {'title': 'ניהול סיכוני איסור הלבנת הון ואיסור מימון טרור (עדכון מיום 12/06/23)',\n",
       "  'date': '31/12/2023',\n",
       "  'pdf_url': 'https://www.boi.org.il/media/tgxhdlot/411_25.pdf'},\n",
       " '473.pdf': {'title': 'הפצת כרטיסי אשראי של מנפיקים הקשורים עם תאגיד בנקאי בהסכם הפצה',\n",
       "  'date': '29/06/2023',\n",
       "  'pdf_url': 'https://www.boi.org.il/media/mahdrgty/473.pdf'},\n",
       " '424.pdf': {'title': 'פתיחת חשבון עובר ושב ביתרת זכות לגופים פיננסיים',\n",
       "  'date': '24/12/2023',\n",
       "  'pdf_url': 'https://www.boi.org.il/media/wyad1pv5/424.pdf'},\n",
       " '251.pdf': {'title': 'התאמות להוראות ניהול בנקאי תקין לצורך התמודדות עם מלחמת \"חרבות ברזל\" (הוראת שעה)',\n",
       "  'date': '31/03/2024',\n",
       "  'pdf_url': 'https://www.boi.org.il/media/os3k2s1z/251_6.pdf'}}"
      ]
     },
     "execution_count": 84,
     "metadata": {},
     "output_type": "execute_result"
    }
   ],
   "source": [
    "with open('pdf_data.json', 'r', encoding='utf-8') as json_file:\n",
    "    json_content = json_file.read()\n",
    "    data = json.loads(json_content)\n",
    "data\n"
   ]
  },
  {
   "cell_type": "markdown",
   "metadata": {},
   "source": [
    "## vectorizing"
   ]
  },
  {
   "cell_type": "code",
   "execution_count": 73,
   "metadata": {},
   "outputs": [],
   "source": [
    "from langchain_openai.embeddings.base import OpenAIEmbeddings\n",
    "from langchain.text_splitter import RecursiveCharacterTextSplitter\n",
    "from pinecone import Pinecone, ServerlessSpec\n",
    "from dotenv import load_dotenv\n",
    "import os\n",
    "import sys\n",
    "import pinecone\n",
    "import glob\n",
    "import PyPDF2 \n",
    "import json\n",
    "from tqdm import tqdm"
   ]
  },
  {
   "cell_type": "code",
   "execution_count": 74,
   "metadata": {},
   "outputs": [],
   "source": [
    "embeddings_model_name=\"text-embedding-3-small\" # US$0.02 / 1M tokens\n",
    "# embeddings_model_name=\"text-embedding-ada-002\" # US$0.10 / 1M tokens\n",
    "pdf_folder = \"pdf_folder\""
   ]
  },
  {
   "cell_type": "code",
   "execution_count": 76,
   "metadata": {},
   "outputs": [],
   "source": [
    "load_dotenv()\n",
    "openai_api_key = os.getenv(\"OPENAI_API_KEY\")\n",
    "pinecone_api_key = os.getenv(\"PINECONE_API_KEY\")\n",
    "embeddings_model = OpenAIEmbeddings(model=embeddings_model_name, openai_api_key=openai_api_key)"
   ]
  },
  {
   "cell_type": "code",
   "execution_count": null,
   "metadata": {},
   "outputs": [],
   "source": [
    "pc = Pinecone(api_key=pinecone_api_key)\n",
    "pc.list_indexes()"
   ]
  },
  {
   "cell_type": "code",
   "execution_count": 78,
   "metadata": {},
   "outputs": [],
   "source": [
    "index_name = 'test-index-1536'\n",
    "if index_name not in pc.list_indexes().names():\n",
    "    pc.create_index(\n",
    "            index_name, \n",
    "            dimension=1536, \n",
    "            spec=ServerlessSpec(\n",
    "                cloud='aws',\n",
    "                region='us-east-1'\n",
    "            ))\n",
    "index = pc.Index(index_name)"
   ]
  },
  {
   "cell_type": "code",
   "execution_count": 80,
   "metadata": {},
   "outputs": [],
   "source": [
    "def get_pdf_text(pdf_path):\n",
    "    text = \"\"\n",
    "    with open(pdf_path, \"rb\") as f:\n",
    "        reader = PyPDF2.PdfReader(f)\n",
    "        for page in reader.pages:\n",
    "            text += page.extract_text()\n",
    "            text = text[0:230000] #limiting the text size\n",
    "    return text"
   ]
  },
  {
   "cell_type": "code",
   "execution_count": 81,
   "metadata": {},
   "outputs": [],
   "source": [
    "def get_text_chunks(text):\n",
    "    text_splitter = RecursiveCharacterTextSplitter(\n",
    "        # separator=[\" \", \",\", \"\\n\"],\n",
    "        chunk_size=1000,\n",
    "        chunk_overlap=200,\n",
    "        length_function=len\n",
    "    )\n",
    "    chunks = text_splitter.split_text(text)\n",
    "    return chunks"
   ]
  },
  {
   "cell_type": "code",
   "execution_count": 82,
   "metadata": {},
   "outputs": [],
   "source": [
    "def get_vector_embedding(text_chanks):\n",
    "    openai_embedding = embeddings_model.embed_documents(text_chanks)\n",
    "    return openai_embedding"
   ]
  },
  {
   "cell_type": "code",
   "execution_count": 38,
   "metadata": {},
   "outputs": [
    {
     "name": "stderr",
     "output_type": "stream",
     "text": [
      "  0%|          | 0/136 [00:00<?, ?it/s]"
     ]
    },
    {
     "name": "stderr",
     "output_type": "stream",
     "text": [
      "100%|██████████| 136/136 [01:18<00:00,  1.73it/s]\n"
     ]
    }
   ],
   "source": [
    "with open('pdf_data.json', 'r', encoding='utf-8') as json_file:\n",
    "    json_content = json_file.read()\n",
    "    pdf_data = json.loads(json_content)\n",
    "\n",
    "    for pdf_name in tqdm(pdf_data):\n",
    "        pdf_path = os.path.join(pdf_folder, pdf_name)\n",
    "        pdf_text = get_pdf_text(pdf_path)\n",
    "        pdf_text_chunked = get_text_chunks(pdf_text)\n",
    "        pdf_text_chunked_embedded = get_vector_embedding(pdf_text_chunked)\n",
    "        chunk_ind_list =  [pdf_name+str(i) for i in range(len(pdf_text_chunked_embedded))]\n",
    "        metadata = [{'text': paragraph} for paragraph in pdf_text_chunked]\n",
    "    try:\n",
    "        index.upsert(vectors=zip(chunk_ind_list,pdf_text_chunked_embedded,metadata))\n",
    "    except Exception as e:\n",
    "        error_code = getattr(e, 'code', None)  # Get the error code if available\n",
    "        print(f\"An error occurred during zipping. Error code: {error_code}. Error message: {e}\")\n",
    "        pass"
   ]
  },
  {
   "cell_type": "code",
   "execution_count": 144,
   "metadata": {},
   "outputs": [
    {
     "name": "stdout",
     "output_type": "stream",
     "text": [
      "Total vector count: 2620\n"
     ]
    }
   ],
   "source": [
    "print('Total vector count:' ,index.describe_index_stats()['total_vector_count'])"
   ]
  },
  {
   "cell_type": "markdown",
   "metadata": {},
   "source": [
    "### Deleteing index"
   ]
  },
  {
   "cell_type": "code",
   "execution_count": 70,
   "metadata": {},
   "outputs": [],
   "source": [
    "# pc.delete_index(index_name)"
   ]
  },
  {
   "cell_type": "markdown",
   "metadata": {},
   "source": [
    "# Retrieval Chain with LLM "
   ]
  },
  {
   "cell_type": "code",
   "execution_count": 85,
   "metadata": {},
   "outputs": [],
   "source": [
    "import os\n",
    "from dotenv import load_dotenv\n",
    "from langchain.chains.retrieval_qa.base import RetrievalQA\n",
    "from langchain_community.vectorstores import Pinecone\n",
    "from langchain_openai import OpenAIEmbeddings\n",
    "from langchain_openai import ChatOpenAI\n",
    "# from langchain_core.output_parsers import StrOutputParser\n",
    "import textwrap\n"
   ]
  },
  {
   "cell_type": "code",
   "execution_count": 163,
   "metadata": {},
   "outputs": [],
   "source": [
    "embeddings_model_name=\"text-embedding-3-small\" # US$0.02 / 1M tokens\n",
    "# embeddings_model_name=\"text-embedding-ada-002\" # US$0.10 / 1M tokens\n",
    "\n",
    "model_mane =\"gpt-4o\"\n",
    "# model_mane =\"gpt-4-turbo\"\n",
    "# model_mane =\"gpt-3.5-turbo\""
   ]
  },
  {
   "cell_type": "code",
   "execution_count": 164,
   "metadata": {},
   "outputs": [],
   "source": [
    "load_dotenv()\n",
    "openai_api_key = os.getenv(\"OPENAI_API_KEY\")\n",
    "pinecone_api_key = os.getenv(\"PINECONE_API_KEY\")\n",
    "embeddings_model = OpenAIEmbeddings(model=embeddings_model_name, openai_api_key=openai_api_key)\n",
    "llm = ChatOpenAI(api_key=openai_api_key, model=model_mane, max_tokens=2048, temperature=0.1)"
   ]
  },
  {
   "cell_type": "code",
   "execution_count": 146,
   "metadata": {},
   "outputs": [],
   "source": [
    "def wrap_text_preserve_newlines(text, width=110):\n",
    "    # Split the input text into lines based on newline characters\n",
    "    lines = text.split('\\n')\n",
    "\n",
    "    # Wrap each line individually\n",
    "    wrapped_lines = [textwrap.fill(line, width=width) for line in lines]\n",
    "\n",
    "    # Join the wrapped lines back together using newline characters\n",
    "    wrapped_text = '\\n'.join(wrapped_lines)\n",
    "\n",
    "    return wrapped_text"
   ]
  },
  {
   "cell_type": "code",
   "execution_count": 147,
   "metadata": {},
   "outputs": [],
   "source": [
    "def process_llm_response(llm_response):\n",
    "    print(wrap_text_preserve_newlines(llm_response['result']))\n",
    "    print('\\n\\nSources:')\n",
    "    for source in llm_response[\"source_documents\"]:\n",
    "        print(source.metadata['Document'])"
   ]
  },
  {
   "cell_type": "code",
   "execution_count": 165,
   "metadata": {},
   "outputs": [],
   "source": [
    "def main():\n",
    "    # query = \"איזה שאלות אפשר לשאול אותך?\"\n",
    "    # query = \"האם חברת אשראי יכולה לתת אשראי במטבע חוץ\"\n",
    "    query = \"מה הדרכים של חברות אשראי לגבות חוב?\"\n",
    "    vectorstore = Pinecone.from_existing_index(embedding=embeddings_model, index_name='test-index-1536')\n",
    "    retriever =  vectorstore.as_retriever()\n",
    "    qa_chain = RetrievalQA.from_chain_type(llm,retriever=retriever, return_source_documents=True, verbose=False)\n",
    "    \n",
    "    answer = qa_chain.invoke(query)\n",
    "    # print(StrOutputParser(answer['result']))\n",
    "    # print(answer)\n",
    "    # print(answer['source_documents'][1])\n",
    "    process_llm_response(answer)\n"
   ]
  },
  {
   "cell_type": "code",
   "execution_count": 166,
   "metadata": {},
   "outputs": [
    {
     "name": "stdout",
     "output_type": "stream",
     "text": [
      "הדרכים של חברות אשראי לגבות חוב כוללות מספר אמצעים, כפי שמפורט בהוראות המפקח על הבנקים:\n",
      "\n",
      "1. **ניסיונות גבייה ישירים**: חברות האשראי מצופות לנסות למצות דרכים שונות לגביית החוב ישירות מהלקוח לפני פנייה\n",
      "לערכאות משפטיות. זה כולל פנייה ללקוח בדרכים שונות, כמו מכתבים, שיחות טלפון, והודעות דוא\"ל.\n",
      "\n",
      "2. **הליכים משפטיים**: אם הניסיונות לגבייה ישירה לא מצליחים, חברות האשראי רשאיות לנקוט בהליכים משפטיים נגד\n",
      "הלקוח כדי לגבות את החוב.\n",
      "\n",
      "3. **שימוש בביטחונות**: במקרים בהם יש ביטחונות שניתנו כנגד ההלוואה, חברות האשראי יכולות לממש את הביטחונות כדי\n",
      "לגבות את החוב.\n",
      "\n",
      "4. **שיתוף פעולה עם חברות גבייה**: חברות האשראי יכולות לשתף פעולה עם חברות גבייה מקצועיות המתמחות בגביית\n",
      "חובות.\n",
      "\n",
      "5. **הסדרי חוב**: חברות האשראי יכולות להציע ללקוח הסדרי חוב, כמו פריסת תשלומים או הנחות על חלק מהחוב, כדי להקל\n",
      "על הלקוח להחזיר את החוב.\n",
      "\n",
      "6. **מכירת החוב**: במקרים מסוימים, חברות האשראי יכולות למכור את החוב לחברות אחרות שמתמחות בגביית חובות.\n",
      "\n",
      "הוראות אלו נועדו להבטיח שהליכי גביית החובות יתבצעו בצורה הוגנת ושקופה, תוך שמירה על זכויות הלקוח.\n",
      "\n",
      "\n",
      "Sources:\n"
     ]
    },
    {
     "ename": "KeyError",
     "evalue": "'Document'",
     "output_type": "error",
     "traceback": [
      "\u001b[1;31m---------------------------------------------------------------------------\u001b[0m",
      "\u001b[1;31mKeyError\u001b[0m                                  Traceback (most recent call last)",
      "Cell \u001b[1;32mIn[166], line 1\u001b[0m\n\u001b[1;32m----> 1\u001b[0m \u001b[43mmain\u001b[49m\u001b[43m(\u001b[49m\u001b[43m)\u001b[49m\n",
      "Cell \u001b[1;32mIn[165], line 13\u001b[0m, in \u001b[0;36mmain\u001b[1;34m()\u001b[0m\n\u001b[0;32m      9\u001b[0m answer \u001b[38;5;241m=\u001b[39m qa_chain\u001b[38;5;241m.\u001b[39minvoke(query)\n\u001b[0;32m     10\u001b[0m \u001b[38;5;66;03m# print(StrOutputParser(answer['result']))\u001b[39;00m\n\u001b[0;32m     11\u001b[0m \u001b[38;5;66;03m# print(answer)\u001b[39;00m\n\u001b[0;32m     12\u001b[0m \u001b[38;5;66;03m# print(answer['source_documents'][1])\u001b[39;00m\n\u001b[1;32m---> 13\u001b[0m \u001b[43mprocess_llm_response\u001b[49m\u001b[43m(\u001b[49m\u001b[43manswer\u001b[49m\u001b[43m)\u001b[49m\n",
      "Cell \u001b[1;32mIn[147], line 5\u001b[0m, in \u001b[0;36mprocess_llm_response\u001b[1;34m(llm_response)\u001b[0m\n\u001b[0;32m      3\u001b[0m \u001b[38;5;28mprint\u001b[39m(\u001b[38;5;124m'\u001b[39m\u001b[38;5;130;01m\\n\u001b[39;00m\u001b[38;5;130;01m\\n\u001b[39;00m\u001b[38;5;124mSources:\u001b[39m\u001b[38;5;124m'\u001b[39m)\n\u001b[0;32m      4\u001b[0m \u001b[38;5;28;01mfor\u001b[39;00m source \u001b[38;5;129;01min\u001b[39;00m llm_response[\u001b[38;5;124m\"\u001b[39m\u001b[38;5;124msource_documents\u001b[39m\u001b[38;5;124m\"\u001b[39m]:\n\u001b[1;32m----> 5\u001b[0m     \u001b[38;5;28mprint\u001b[39m(\u001b[43msource\u001b[49m\u001b[38;5;241;43m.\u001b[39;49m\u001b[43mmetadata\u001b[49m\u001b[43m[\u001b[49m\u001b[38;5;124;43m'\u001b[39;49m\u001b[38;5;124;43mDocument\u001b[39;49m\u001b[38;5;124;43m'\u001b[39;49m\u001b[43m]\u001b[49m)\n",
      "\u001b[1;31mKeyError\u001b[0m: 'Document'"
     ]
    }
   ],
   "source": [
    "main()"
   ]
  },
  {
   "cell_type": "code",
   "execution_count": 162,
   "metadata": {},
   "outputs": [
    {
     "name": "stdout",
     "output_type": "stream",
     "text": [
      "{'query': 'מה הדרכים של חברות אשראי לגבות חוב?', 'result': 'הדרכים שבהן חברות אשראי יכולות לגבות חוב כוללות שימוש באמצעים שונים כדי להבטיח את החזר החוב מהלקוח. כאשר לקוח נקלע לקשיים כלכליים ואינו מסוגל לעמוד בתשלומים, החברה יכולה לנקוט בצעדים כדי לגבות את החוב, כולל:\\n\\n1. פנייה ישירה ללקוח: חברת האשראי יכולה לפנות ישירות ללקוח דרך מכתבים, שיחות טלפון או ביקורים כדי לדון במצבו הכלכלי ולמצוא פתרון לתשלום החוב.\\n\\n2. תוכניות תשלום: החברה יכולה להציע ללקוח תוכנית תשלום מותאמת אישית, שמאפשרת לו לשלם את החוב בקצב שהוא יכול לעמוד בו.\\n\\n3. הפנייה לגורמי גבייה: אם הלקוח לא משלם, החברה יכולה להעביר את החוב לגורמי גבייה מקצועיים שינסו לגבות את החוב באמצעות דרכים שונות.\\n\\n4. הליכים משפטיים: במקרה שכל הניסיונות האחרים נכשלים, חברת האשראי יכולה להגיש תביעה משפטית נגד הלקוח כדי לקבל פסק דין שיאפשר לה לגבות את החוב.\\n\\n5. פשרה או הסדר חוב: במקרים מסוימים, חברת האשראי עשויה להציע הסדר חוב או פשרה, שבה הלקוח משלם סכום נמוך יותר מהחוב המקורי כדי לסגור את החוב.\\n\\nחברות אשראי מחויבות לפעול בהוגנות ושקיפות במהלך תהליך גביית החובות, תוך שמירה על כבודו ופרטיותו של הלקוח.', 'source_documents': [Document(page_content='Corporation (OPIC)  שהן סוכנויות של ממשלת ארה\"ב, הערבה לכל תשלומי הקרן\\nוהריבית של התחייבויותיהם, ובלבד  שניתן להיפרע מ מנה לאחר תשלום אשראי \\nתעודות. \\nשליטה משותפת \\n6.  בטל. \\nשותפות \\n7.   חבות לתאגיד הבנקאי של שותפות (בין רשומה ובין בלתי רשומה), בה שותף לווה, תצורף\\nלחבות הלווה אולם כאשר אחריותו של שותף בחבות מוגבלת, לא תעלה התוספת לחבות \\nשל הלווה בגין השותפות על הסכום לו הוא אחראי\". \\nאשראי ללא זכות חזרה ללווה \\n7א. על אף האמור בהוראה זו: \\n(1) אשראי ללא זכות חזרה ללווה  בביטחון  ניירות ערך, יצורף הן לחבות הלווה והן \\nלחבות התאגיד המנפיק את ניירות הערך. \\n(2) בקבוצת לווים בה נכללים הן התאגיד הנרכש והן הלווים להם ניתנה החבות, תיכלל \\nהחבות פעם אחת בלבד. \\nלעניין סעיף זה, \"אשראי  ללא זכות חזרה ללווה\" - עסקת אשראי בה לתאגיד הבנקאי אין \\nזכות להיפרע מכלל נכסי הלווה במקרה של כשל אשראי, אלא בעיקר מרכוש המשמש \\nכביטחון בחוזה או רכוש ספציפי אחר, או כאשר הרכוש המשמש כביטחון הוא הנכס \\nהעיקרי של הלווה. \\nמיזוגים ורכישות \\n8.   חל שינוי בחבות של לווה או של קבוצת לווים כתוצאה ממיזוג לווים או משינויים בשליטה'), Document(page_content='חברתיות ויתרות חובה הכפופות לחשבונות -ין המוכר והחייב. )ככאלה, יתרות חובה ביןב \\nהן בלתי כשירות ,םביניה יםומוכר יםהרוכש תאגידיםנגדיים בין 64 .(  \\n•  לתאגיד הבנקאי הרוכש קיימת זכות על כלל התקבולים ממאגר החייבים או על חלקם \\n) היחסי pro -rata (65 . \\n•  .איהבנקהתאגיד שקבע  מתועדיםקריטריונים בהתאם ל, מספיק מפוזר החייביםמאגר  \\n  \\n243 .  ) קיומה של זכות חזרה recourse  את  מיידיבאופן ( מלאה או חלקית למוכר, לא פוסלת \\nמטה\\', כל עוד תזרימי המזומנים מהחייב - \\'מעלה - גישת ה יאמץהתאגיד הבנקאי האפשרות ש \\n בסעיפים בהתאם לאמורמקור ההגנה העיקרי כנגד סיכון כשל,  מהוויםהתאגידי הנרכש 365  \\n עד 368  .  עבור חייבים שנרכשו, והתאגיד הבנקאי עומד בתנאי הכשירות ובדרישות התפעוליות \\n  \\n                                                      \\n64  בחליפין ) ולקו. הסיכון הוא שחובות יסו תאגידלאות חשבונות נגדיים עוסקים בלקוח שרוכש ומוכר in-kind (   ולא במזומן. חשבוניות \\nלתשלום בין חברות יכולות להתקזז אחת כנגד השנייה במקום להיפרע. נוהג זה יכול לגבור על זכויות בני\"ע אם יובא להכרעת בימ\"ש.'), Document(page_content=\"המפקח על הבנקים [ : ניהול בנקאי תקין4( ] 09/21                                                                                     ) \\n    הליכי גביית חובות                                                                                       עמ' 1- 450 \\n \\n \\nהליכי גביית חובות \\n \\nמבוא \\n1.  לקוח הנוטל מתאגיד בנקאי הלוואה חייב להחזירה, בהתאם לתנאים שנקבעו בהסכם\\nבינו לבין התאגיד הבנקאי. לעיתים נקלע הלקוח לקשיים כלכליים, באופן הפוגע ביכולת  \\nההחזר שלו, ובעקבות זאת נוקט התאגיד הבנקאי באמצעים שונים על מנת לגבות את  \\nחובו. על אף שהתאגיד ה בנקאי רשאי לנקוט בהליכים משפטיים נגד הלקוח, מצופה ממנו \\nלנסות למצות, ככל הניתן, דרכים שונות לגביית החוב על כלל מרכיביו מן הלקוח, טרם \\nפניה לערכאות משפטיות.    \\n קיימות הוראות חוק המסדירות היבטים שונים בהליכי גביית חוב, על פיהם נדרש \\n התאגיד הבנקאי לפעול. מטרתה של הוראה חדשה זו היא להביא ל הגברת ההוגנות  \\n והשקיפות בהליכי גביית חובות דרך הסדרת היבטים נוספים בתחום יחסי בנק – לקוח, \\n שלא מצאו את ביטוים באופן מלא בחקיקה הקיימת.\"), Document(page_content='לגביהן כל התנאים הבאים: \\n1. סך החבות אינו עולה על 10 מיליון ש\"ח; \\n2. העסקה מתאימה לטיפול חשבונאי של רכישת/מכירת חוב; \\n3.  החוב של החייב נוצר כתוצאהמעסקת  מכירה או אגב שירות שאינו פיננסי ונרכש על \\nידי התאגיד הבנקאי במסגרת עסקת ניכיון חייבים, כאשר חברת ביטוח התחייבה \\nלשאת בסיכון האשראי בגין החוב, ובתנאי: ( 1  ) חברת הביטוח כפופה להוראות \\nהממונה על שוק ההון, הביטוח והחיסכון או כפופה להוראות רשות מפקחת במדינה \\nזרה, ובלבד שהמדינה חברה ב- OECD  ומדורגתבדירוג  A- ( .או בדירוג עדיף מזה2 )\\n לחברת הביטוח דירוג מקומיAA-  לפחות (אוAa3  מחברת Moody\\'s  ), שיעודכן לפחות\\nאחת לשנה.  \\n4.  אין לתאגיד הבנקאי קשר ישיר עם החייבאו אין ביכולתו להשיג דוח כספי מעודכן \\nשלו; על התאגיד הבנקאי לתעד בתיק הלווה את הסיבות להעדר דוח כספי מעודכן,  \\nהמבססות את האמור לעיל; \\n27  .גזאת ועוד,  בעת אישור אשראי לתאגיד בסכום מהותי יידרש התאגיד הבנקאי להתבסס גם על \\nנתונים כספיים חצי שנתיים לתקופה המסתיימת ביום 30 לחודש יוני, בתוך שלושה חודשים  \\nמתום התקופה , כמפורט להלן:')]}\n"
     ]
    }
   ],
   "source": [
    "query = \"מה הדרכים של חברות אשראי לגבות חוב?\"\n",
    "vectorstore = Pinecone.from_existing_index(embedding=embeddings_model, index_name='test-index-1536')\n",
    "retriever =  vectorstore.as_retriever()\n",
    "qa_chain = RetrievalQA.from_chain_type(llm,retriever=retriever, return_source_documents=True, verbose=False)\n",
    "answer = qa_chain.invoke(query)\n",
    "print(answer)"
   ]
  },
  {
   "cell_type": "code",
   "execution_count": 167,
   "metadata": {},
   "outputs": [
    {
     "data": {
      "text/plain": [
       "[Document(page_content='Corporation (OPIC)  שהן סוכנויות של ממשלת ארה\"ב, הערבה לכל תשלומי הקרן\\nוהריבית של התחייבויותיהם, ובלבד  שניתן להיפרע מ מנה לאחר תשלום אשראי \\nתעודות. \\nשליטה משותפת \\n6.  בטל. \\nשותפות \\n7.   חבות לתאגיד הבנקאי של שותפות (בין רשומה ובין בלתי רשומה), בה שותף לווה, תצורף\\nלחבות הלווה אולם כאשר אחריותו של שותף בחבות מוגבלת, לא תעלה התוספת לחבות \\nשל הלווה בגין השותפות על הסכום לו הוא אחראי\". \\nאשראי ללא זכות חזרה ללווה \\n7א. על אף האמור בהוראה זו: \\n(1) אשראי ללא זכות חזרה ללווה  בביטחון  ניירות ערך, יצורף הן לחבות הלווה והן \\nלחבות התאגיד המנפיק את ניירות הערך. \\n(2) בקבוצת לווים בה נכללים הן התאגיד הנרכש והן הלווים להם ניתנה החבות, תיכלל \\nהחבות פעם אחת בלבד. \\nלעניין סעיף זה, \"אשראי  ללא זכות חזרה ללווה\" - עסקת אשראי בה לתאגיד הבנקאי אין \\nזכות להיפרע מכלל נכסי הלווה במקרה של כשל אשראי, אלא בעיקר מרכוש המשמש \\nכביטחון בחוזה או רכוש ספציפי אחר, או כאשר הרכוש המשמש כביטחון הוא הנכס \\nהעיקרי של הלווה. \\nמיזוגים ורכישות \\n8.   חל שינוי בחבות של לווה או של קבוצת לווים כתוצאה ממיזוג לווים או משינויים בשליטה'),\n",
       " Document(page_content='חברתיות ויתרות חובה הכפופות לחשבונות -ין המוכר והחייב. )ככאלה, יתרות חובה ביןב \\nהן בלתי כשירות ,םביניה יםומוכר יםהרוכש תאגידיםנגדיים בין 64 .(  \\n•  לתאגיד הבנקאי הרוכש קיימת זכות על כלל התקבולים ממאגר החייבים או על חלקם \\n) היחסי pro -rata (65 . \\n•  .איהבנקהתאגיד שקבע  מתועדיםקריטריונים בהתאם ל, מספיק מפוזר החייביםמאגר  \\n  \\n243 .  ) קיומה של זכות חזרה recourse  את  מיידיבאופן ( מלאה או חלקית למוכר, לא פוסלת \\nמטה\\', כל עוד תזרימי המזומנים מהחייב - \\'מעלה - גישת ה יאמץהתאגיד הבנקאי האפשרות ש \\n בסעיפים בהתאם לאמורמקור ההגנה העיקרי כנגד סיכון כשל,  מהוויםהתאגידי הנרכש 365  \\n עד 368  .  עבור חייבים שנרכשו, והתאגיד הבנקאי עומד בתנאי הכשירות ובדרישות התפעוליות \\n  \\n                                                      \\n64  בחליפין ) ולקו. הסיכון הוא שחובות יסו תאגידלאות חשבונות נגדיים עוסקים בלקוח שרוכש ומוכר in-kind (   ולא במזומן. חשבוניות \\nלתשלום בין חברות יכולות להתקזז אחת כנגד השנייה במקום להיפרע. נוהג זה יכול לגבור על זכויות בני\"ע אם יובא להכרעת בימ\"ש.'),\n",
       " Document(page_content=\"המפקח על הבנקים [ : ניהול בנקאי תקין4( ] 09/21                                                                                     ) \\n    הליכי גביית חובות                                                                                       עמ' 1- 450 \\n \\n \\nהליכי גביית חובות \\n \\nמבוא \\n1.  לקוח הנוטל מתאגיד בנקאי הלוואה חייב להחזירה, בהתאם לתנאים שנקבעו בהסכם\\nבינו לבין התאגיד הבנקאי. לעיתים נקלע הלקוח לקשיים כלכליים, באופן הפוגע ביכולת  \\nההחזר שלו, ובעקבות זאת נוקט התאגיד הבנקאי באמצעים שונים על מנת לגבות את  \\nחובו. על אף שהתאגיד ה בנקאי רשאי לנקוט בהליכים משפטיים נגד הלקוח, מצופה ממנו \\nלנסות למצות, ככל הניתן, דרכים שונות לגביית החוב על כלל מרכיביו מן הלקוח, טרם \\nפניה לערכאות משפטיות.    \\n קיימות הוראות חוק המסדירות היבטים שונים בהליכי גביית חוב, על פיהם נדרש \\n התאגיד הבנקאי לפעול. מטרתה של הוראה חדשה זו היא להביא ל הגברת ההוגנות  \\n והשקיפות בהליכי גביית חובות דרך הסדרת היבטים נוספים בתחום יחסי בנק – לקוח, \\n שלא מצאו את ביטוים באופן מלא בחקיקה הקיימת.\"),\n",
       " Document(page_content='לגביהן כל התנאים הבאים: \\n1. סך החבות אינו עולה על 10 מיליון ש\"ח; \\n2. העסקה מתאימה לטיפול חשבונאי של רכישת/מכירת חוב; \\n3.  החוב של החייב נוצר כתוצאהמעסקת  מכירה או אגב שירות שאינו פיננסי ונרכש על \\nידי התאגיד הבנקאי במסגרת עסקת ניכיון חייבים, כאשר חברת ביטוח התחייבה \\nלשאת בסיכון האשראי בגין החוב, ובתנאי: ( 1  ) חברת הביטוח כפופה להוראות \\nהממונה על שוק ההון, הביטוח והחיסכון או כפופה להוראות רשות מפקחת במדינה \\nזרה, ובלבד שהמדינה חברה ב- OECD  ומדורגתבדירוג  A- ( .או בדירוג עדיף מזה2 )\\n לחברת הביטוח דירוג מקומיAA-  לפחות (אוAa3  מחברת Moody\\'s  ), שיעודכן לפחות\\nאחת לשנה.  \\n4.  אין לתאגיד הבנקאי קשר ישיר עם החייבאו אין ביכולתו להשיג דוח כספי מעודכן \\nשלו; על התאגיד הבנקאי לתעד בתיק הלווה את הסיבות להעדר דוח כספי מעודכן,  \\nהמבססות את האמור לעיל; \\n27  .גזאת ועוד,  בעת אישור אשראי לתאגיד בסכום מהותי יידרש התאגיד הבנקאי להתבסס גם על \\nנתונים כספיים חצי שנתיים לתקופה המסתיימת ביום 30 לחודש יוני, בתוך שלושה חודשים  \\nמתום התקופה , כמפורט להלן:')]"
      ]
     },
     "execution_count": 167,
     "metadata": {},
     "output_type": "execute_result"
    }
   ],
   "source": [
    "answer['source_documents']"
   ]
  },
  {
   "cell_type": "code",
   "execution_count": null,
   "metadata": {},
   "outputs": [],
   "source": []
  },
  {
   "cell_type": "code",
   "execution_count": null,
   "metadata": {},
   "outputs": [],
   "source": []
  },
  {
   "cell_type": "code",
   "execution_count": null,
   "metadata": {},
   "outputs": [],
   "source": []
  },
  {
   "cell_type": "code",
   "execution_count": null,
   "metadata": {},
   "outputs": [],
   "source": []
  },
  {
   "cell_type": "code",
   "execution_count": null,
   "metadata": {},
   "outputs": [],
   "source": []
  },
  {
   "cell_type": "code",
   "execution_count": null,
   "metadata": {},
   "outputs": [],
   "source": []
  },
  {
   "cell_type": "code",
   "execution_count": null,
   "metadata": {},
   "outputs": [],
   "source": []
  },
  {
   "cell_type": "code",
   "execution_count": null,
   "metadata": {},
   "outputs": [],
   "source": []
  },
  {
   "cell_type": "markdown",
   "metadata": {},
   "source": [
    "### OLD shit"
   ]
  },
  {
   "cell_type": "code",
   "execution_count": 41,
   "metadata": {},
   "outputs": [
    {
     "data": {
      "text/plain": [
       "{'matches': [{'id': '359A.pdf3',\n",
       "              'metadata': {'text': 'הם מעבירים פעילויות שונות למיקור חוץ, '\n",
       "                                   'במטרה לצמצם את חשיפתם לסיכונים \\n'\n",
       "                                   'הפוטנציאליים הנובעים מכך, ובכלל זה: גיבוש '\n",
       "                                   'מדיניות מיקור חוץ ות וכנית לניהול  \\n'\n",
       "                                   'הסיכונים במיקור חוץ, ביצוע בדיקת נאותות '\n",
       "                                   'לנותן השירות, חתימה על חוזה מיקור  חוץ \\n'\n",
       "                                   'ופיתוח ת וכנית  להמשכיות עסקית.  ההוראה '\n",
       "                                   'נסמכת על רגולציה קיימת ב מדינות רבות \\n'\n",
       "                                   'בעולם  מזה מספר שנים כגון: ארה\"ב, קנדה, '\n",
       "                                   'הונג קונג ואוסטרליה וכן על מסמך שפורסם \\n'\n",
       "                                   'על ידי פורום משותף בראשות ועדת באזל. \\n'\n",
       "                                   '6.  עקרון מרכזי שנקבע בהוראה הינו ש הוצאת '\n",
       "                                   'פעילות למיקור חוץ אינה גורעת מאחריות  \\n'\n",
       "                                   'התאגיד הבנקאי לקיום מכלול הדינים וההוראות '\n",
       "                                   'החלים עליו. המפקח על הבנקים: ניהול בנקאי '\n",
       "                                   'תקין  [4( ] 09/21) \\n'\n",
       "                                   '                                   מיקור '\n",
       "                                   'חוץ                                                                                      '\n",
       "                                   \"עמ' 3- A359 \\n\"\n",
       "                                   ' \\n'\n",
       "                                   'תחולה \\n'\n",
       "                                   '7. :לעניין תחולת ההוראה \\n'\n",
       "                                   '(א) הוראות אלו יחולו על כל התאגידים הבאים '\n",
       "                                   '(להלן בהוראה זו - \"תאגיד בנקאי\"): \\n'\n",
       "                                   '(1) ;תאגיד בנקאי \\n'\n",
       "                                   '(2) ;תאגיד עזר \\n'\n",
       "                                   '(3)  תאגיד כאמור בסעיפים11()(א3 '\n",
       "                                   ')או-11()(א3)ב; \\n'\n",
       "                                   '(4)  סולק כהגדרתו בסעיף36 )(ט) לחוק '\n",
       "                                   'הבנקאות (רישוי.'},\n",
       "              'score': 0.857132435,\n",
       "              'values': []},\n",
       "             {'id': '448.pdf27',\n",
       "              'metadata': {'text': 'הלקוח בבנק הקולט. במקרה וקיימת יתרת חובה '\n",
       "                                   'במטבע חוץ בחשבון בבנק המקורי, \\n'\n",
       "                                   'בהעדר הוראה אחרת מהלקוח  ובהעדר מנגנון '\n",
       "                                   'לקליטת יתרות חובה במטבע חוץ בין  המפקח על '\n",
       "                                   'הבנקים:  [ ניהול בנקאי תקין2( ] 8/21) \\n'\n",
       "                                   '                                   העברת '\n",
       "                                   'פעילות פיננסית של לקוח בין בנקים באופן '\n",
       "                                   \"מקוון                           עמ' 10  - \"\n",
       "                                   '448 \\n'\n",
       "                                   ' \\n'\n",
       "                                   '   ,הבנקיםימיר הבנק המקורי את יתר ת החובה '\n",
       "                                   'לשקלים, בהתאם לאופן ההמרה הנהוג \\n'\n",
       "                                   'בבנק המקורי, והיתרה  תנויד לחשבונו של '\n",
       "                                   'הלקוח בבנק הקולט. \\n'\n",
       "                                   '(ה) שיקים:  \\n'\n",
       "                                   '(1) הבנק המקורי יאפשר ללקוח לקבל פלט שיק '\n",
       "                                   'ממוחשב שהופק על ידו לבקשת הלקוח \\n'\n",
       "                                   'לפני יום המעבר, גם לאחר יום המעבר.     \\n'\n",
       "                                   '(2) משך לקוח שיק לא משורטט מחשבונו בבנק '\n",
       "                                   'המקורי והעביר את פעילותו הפיננסית, \\n'\n",
       "                                   'וסרב הבנק המקורי לבקשת המוטב לקבל את תמורת '\n",
       "                                   'השיק האמור במזומן בקופת \\n'\n",
       "                                   'הבנק, יעדכן הבנק המקורי את המוטב אודות '\n",
       "                                   'האפשרויות העומדות בפניו, לרבות  \\n'\n",
       "                                   'האפשרות להציגו מחדש באמצעות חשבון '\n",
       "                                   'המוטב.   \\n'\n",
       "                                   '29  :א. הוראות נוספות לעניין הטיפול '\n",
       "                                   'בשיקים \\n'\n",
       "                                   '(א) הבנקים יאפשרו ללקוח לתת הוראות בדבר '\n",
       "                                   'אופן הטיפול בשיקים למשמרת שמועד פירעונם'},\n",
       "              'score': 0.847656608,\n",
       "              'values': []},\n",
       "             {'id': '437.pdf1',\n",
       "              'metadata': {'text': 'לכך, יש לאפשר ללקוחות חשבון במטבע ישראלי, '\n",
       "                                   'אלא אם הלקוח עצמו בחר בדרך זו. אי \\n'\n",
       "                                   '  לשלם הן את המס והן את העמלות במטבע '\n",
       "                                   'ישראלי. \\n'\n",
       "                                   '_________________________   \\n'\n",
       "                                   '        נ ס פ חנ ס פ חנ ס פ חנ ס פ ח \\n'\n",
       "                                   '  קטע מחוברת \"דברי הסבר בדבר חובת ניכוי מס '\n",
       "                                   'במקור מתשלומים שאינם משכורת או \\n'\n",
       "                                   '    נציבות מס הכנסה ומס רכוש, ירושלים, '\n",
       "                                   'אפריל, , , , שכר עבודה\" 1986 1986 1986 '\n",
       "                                   \"1986  ', עמ 24   \\n\"\n",
       "                                   '  \\n'\n",
       "                                   '   ומטבע חוץ -אגרות חוב ודיבידנד שנתקבלו '\n",
       "                                   'מחו\"ל \"יב. ריבית על \\n'\n",
       "                                   '  \\n'\n",
       "                                   'בנק המקבל מתושב חוץ דיבידנד על מניות או '\n",
       "                                   'ריבית על אגרות חוב, בשביל תושב   \\n'\n",
       "                                   'ישראל, או לזכותו, ינכה מס מהכנסה זו, וינהג '\n",
       "                                   'ככל האמור לעיל ביחס לדיבידנד וריבית \\n'\n",
       "                                   '  על אג\"ח. \\n'\n",
       "                                   'שיעור הניכוי הוא   - 25%    אים, כאמור '\n",
       "                                   'לעיל.רק אם הוצא אישור מת -. פחות \\n'\n",
       "                                   'את סכום המס שניכה בנק מהכנסות אלה, וכן את '\n",
       "                                   'המס שניכה בנק מדיבידנד על מניות   - \\n'\n",
       "                                   'או מריבית על אגרות חוב של חברות מקומיות '\n",
       "                                   'הנסחרות במטבע חוץ, יעביר הבנק \\n'\n",
       "                                   'במטבע חוץ ישירות לבנק ישראל לזכות חשבון '\n",
       "                                   'אגף מס הכנסה. הדו\"ח ימסר לפקיד \\n'\n",
       "                                   '  כויים לפי סוגי המטבע והעתק משובר ההפקדה '\n",
       "                                   'בבנק ישראל.השומה יחד עם פירוט הני'},\n",
       "              'score': 0.847052,\n",
       "              'values': []},\n",
       "             {'id': '301.pdf106',\n",
       "              'metadata': {'text': '(2)  ,האם הינך שר, סגן שר או חבר הכנסת, או '\n",
       "                                   'בעל זיקה אישית\\n'\n",
       "                                   'עסקית או פוליטית לשר או לסגן שר, או שהינך '\n",
       "                                   'עובד מדינה \\n'\n",
       "                                   'או עובד של תאגיד שהוקם בחוק?  \\n'\n",
       "                                   '                כן/ לא  פרט __ ____ '\n",
       "                                   '____________________________;\\n'\n",
       "                                   '                                               \\n'\n",
       "                                   '18 רשימת חברי הוועדה מפורסמת באתר האינטרנט '\n",
       "                                   'של בנק ישראל.  המפקח על הבנקים: ניהול '\n",
       "                                   'בנקאי תקין [30( ] 02/23  '\n",
       "                                   ')                                                                                            \\n'\n",
       "                                   \" דירקטוריון  עמ'   48- 301 \\n\"\n",
       "                                   ' \\n'\n",
       "                                   ' 7. פרטים נוספים \\n'\n",
       "                                   'נא ענה על השאלות הבאות. במידת הצורך, ציין '\n",
       "                                   'ופרט בהתאם לנדרש בשאלה. \\n'\n",
       "                                   '7.1.  האם מוכרות לך הוראות המפקח על הבנקים '\n",
       "                                   'והדרישות הנובעות מהוראות חוק, או \\n'\n",
       "                                   'הוראות רגולטוריות ומקצועיות אחרות, אש ר '\n",
       "                                   'יחולו עליך מכח תפקידך כדירקטור / \\n'\n",
       "                                   'מבקר פנימי / נושא משרה אחר והאם הנך מתחייב '\n",
       "                                   'לפעול לפיהן? \\n'\n",
       "                                   'כן / לא פרט___ '\n",
       "                                   '______________________________________ '\n",
       "                                   '____ ._______ \\n'\n",
       "                                   '7.2.  האם ידוע לך על מניעה כלשהי אשר עלולה '\n",
       "                                   'להגביל את יכולתך מלעמוד בכללים \\n'\n",
       "                                   'המחייבים לעיל?'},\n",
       "              'score': 0.845540226,\n",
       "              'values': []},\n",
       "             {'id': '342.pdf15',\n",
       "              'metadata': {'text': ')א(   נזילות  מזערייחס  כל פני על ליחושב   '\n",
       "                                   'התאגיד  של הבנקאיהפעילות   חבוכן\"מט '\n",
       "                                   ',בנפרד.  \\n'\n",
       "                                   ')ב(   בחשבון  להביא  יש  קיצון  '\n",
       "                                   'מטבעותשבמצבי  בין להחליף  היכולת   לבין '\n",
       "                                   'שקלים  בין ובפרט\\n'\n",
       "                                   ',ח\"מט ל ועלולה  משמעותי  באופן  היפגע  '\n",
       "                                   'שינויים  כי  החליפיןמשמעותיים  בשערי   '\n",
       "                                   'עלולים\\n'\n",
       "                                   ' על הנזילותלהשפיע  כרית  היקף.   \\n'\n",
       "                                   ')ג(   תותר  לא ח\"במט מזערי  נזילות  יחס '\n",
       "                                   'בחישוב  על הסתמכות  יכולת  עתידית  להחליף '\n",
       "                                   'בין\\n'\n",
       "                                   'ח\"מט לבין שקלים.  \\n'\n",
       "                                   ')ד(  , ח\"במט מזערי  נזילות  יחס בחישוב  '\n",
       "                                   'בחשיפות  ישראל  לממשלת  ח\"מט  קיימת  '\n",
       "                                   'שלמדינה\\n'\n",
       "                                   ' ח\"מט לגייס  מתקשה  היא אם בשקלים  אותן  '\n",
       "                                   'לסלק  ואפשרות  לבנק  ח\"במט חשיפות  \\n'\n",
       "                                   'רשאיישראל  ישראל  בנק כאשר ,  הסכם  פי על '\n",
       "                                   ', הבנקאי  התאגיד  עם  חד הודעה  פי על או\\n'\n",
       "                                   'צד,  הבנקאי  התאגיד  של דית   במקרה  '\n",
       "                                   'בשקלים  אותן  שיתקשהלסלק  ח\"מט לגייס   '\n",
       "                                   'במועד\\n'\n",
       "                                   'פירעונן  יעלו לא , במצטבר על 20% משולב  '\n",
       "                                   'ובתרחיש  מערכתי  בתרחיש  הנזילות  מכרית  . '\n",
       "                                   'הבנקים  על המפקח ] תקין  בנקאי  ניהול:  4) '\n",
       "                                   '[ 09/14(          \\n'\n",
       "                                   \"נזילות  סיכון  ניהול'         עמ \"\n",
       "                                   '7-\\uf020342\\uf020\\uf020\\uf020\\n'\n",
       "                                   '  \\n'\n",
       "                                   '  היציביחס  המימון'},\n",
       "              'score': 0.845016181,\n",
       "              'values': []},\n",
       "             {'id': '311.pdf83',\n",
       "              'metadata': {'text': 'ההון ונאותות  ההפרשות להפסדי אשראי. ניתוח '\n",
       "                                   'השפעות השיבוש האפשרי עשוי לסייע ב גילוי \\n'\n",
       "                                   'תחומים שלא זוהו בעבר של חשיפה אפשרית של '\n",
       "                                   'התאגיד הבנקאי לסיכוני אשראי. קשר בין \\n'\n",
       "                                   'מוקדי סיכון שונים,  שסביר שי תגלה בעת '\n",
       "                                   'משבר, צריך להיות מובן במלואו. בעיתות משבר  '\n",
       "                                   'עשוי \\n'\n",
       "                                   'להתקיים  מתאם גבוה בין סיכונים  שונים, '\n",
       "                                   'במיוחד בין סיכוני אשראי ו סיכוני שוק. '\n",
       "                                   'ניתוח \\n'\n",
       "                                   'תרחישים ומבחני קיצון מהווים דרכים יעילות '\n",
       "                                   'להערכת בעיות אפשריות. \\n'\n",
       "                                   '74.  ניתוחי תרחישים שליליים כוללים זיהוי '\n",
       "                                   'אירועים אפשריים , או שינויים עתידיים '\n",
       "                                   'בתנאים \\n'\n",
       "                                   'הכלכליים, העשויים להשפיע לרעה על חשיפת '\n",
       "                                   'האשראי של התאגיד הבנקאי, והערכה של יכולת \\n'\n",
       "                                   'הבנק לעמוד בהם. שלו שה תחומים שתאגיד בנקאי '\n",
       "                                   'יכול  לבדוק ביעילות הם: (i )  הרעה במצב\\n'\n",
       "                                   'הכלכלי או  הענפי; ( ii ) אירועי סיכוני '\n",
       "                                   'שוק; ו- (iii  .) תנאי נזילות ניתוחי '\n",
       "                                   'תרחישים שליליים \\n'\n",
       "                                   'יכולים להיערך בטווח שבין  ניתוח רגישות '\n",
       "                                   'פשוט יחסית לאחד או יותר מהמשתנים '\n",
       "                                   'הכלכליים, \\n'\n",
       "                                   'המבניים והעסקיים , ו עד ל שימוש במודלים '\n",
       "                                   'מתוחכמים ביותר. בדרך כלל, שימוש במודלים  \\n'\n",
       "                                   'מתוחכמים ייעשה, בארץ ובעולם,  על ידי בנקים '\n",
       "                                   'גדולים  בעלי פעילות בשוק הבינלאומי.'},\n",
       "              'score': 0.844741881,\n",
       "              'values': []},\n",
       "             {'id': '202.pdf22',\n",
       "              'metadata': {'text': '13. ההנפקה בוצעה בכפוף לאישור הבעלים של ה '\n",
       "                                   'תאגיד הבנקאי המנפיק, שניתן ישירות על ידם \\n'\n",
       "                                   'או, אם החוק מאפשר זאת, על ידי הדירקטוריון '\n",
       "                                   'או אדם אחר שהוסמך לכך על ידי הבעלים. \\n'\n",
       "                                   '14. ניתן לו גילוי ברור ונפרד  במאזן התאגיד '\n",
       "                                   'הבנקאי. \\n'\n",
       "                                   '                                                      \\n'\n",
       "                                   '2  ישות קשורה יכולה לכלול חברת אם, חברה '\n",
       "                                   'אחות, חברה בת או כל חברה קשורה. חברתהחזקות '\n",
       "                                   'הינה חברה קשורה  \\n'\n",
       "                                   'ללא קשר אם היא מהווה חלק מהקבוצה הבנקאית '\n",
       "                                   'המאוחדת. המפקח על הבנקים: ניהול בנקאי '\n",
       "                                   'תקין  [5 ]( 02/21)   \\n'\n",
       "                                   \" מדידה והלימות הון– ההון הפיקוחי  עמ' 11 - \"\n",
       "                                   '202 \\n'\n",
       "                                   ' \\n'\n",
       "                                   \" נספח ב'  \\n\"\n",
       "                                   'זכויות מיעוט והון אחר המונפק בחברות בת '\n",
       "                                   \"שאוחדו המוחזק על ידי צד ג' \\n\"\n",
       "                                   '1. סכום זכויות המיעוט העומד בדרישות '\n",
       "                                   'המפורטות בהוראה שייכלל בהון הפיקוחי '\n",
       "                                   'הוא:  \\n'\n",
       "                                   \"א. סך ההון המיוחס לצד ג', בניכוי \\n\"\n",
       "                                   'ב. הסכום שמעל הדרישות הפיקוחיות המזעריות  '\n",
       "                                   'המפורטות בהורא ת ניהול בנקאי תקין \\n'\n",
       "                                   'מספר 201  (להלן– \"עודף הון\"), המחושב בהתאם '\n",
       "                                   'לסעיפים  2-4 .להלן \\n'\n",
       "                                   'הון עצמי רובד 1 \\n'\n",
       "                                   '2. סכום זכויות המיעוט שיוכרו בהון עצמי '\n",
       "                                   'רובד 1 :, יחושב כלהלן'},\n",
       "              'score': 0.844309568,\n",
       "              'values': []},\n",
       "             {'id': '204.pdf293',\n",
       "              'metadata': {'text': \"עמ'             סיכון אשראי - הגישות \"\n",
       "                                   'המתקדמות  -מדידה והלימות הון  108   -  '\n",
       "                                   '204   \\n'\n",
       "                                   ' \\n'\n",
       "                                   ' טבלה 4  -    סולמות דירוג פיקוחיים עבור '\n",
       "                                   'חשיפות למימון סחורות \\n'\n",
       "                                   '  חלש  משביע רצון  טוב  חזק  \\n'\n",
       "                                   '  חוסן פיננסי         \\n'\n",
       "                                   '  חלשה.  משביעת רצון.  טובה.  חזקה.  רמת '\n",
       "                                   'ערבויות יתר למסחר \\n'\n",
       "                                   '  סביבה פוליטית וחוקית         \\n'\n",
       "                                   ')בפרט, הרזרבות ממוקמות מחוץ חשיפה מצומצמת '\n",
       "                                   'לסיכון מדינה   אין סיכון מדינה.  סיכון '\n",
       "                                   'מדינה \\n'\n",
       "                                   'למדינה ) \\n'\n",
       "                                   'offshore  ( במדינה \\n'\n",
       "                                   'הרזרבות ממוקמות מחוץ  חשיפה לסיכון מדינה '\n",
       "                                   ')בפרט,  מתפתחת(. \\n'\n",
       "                                   'למדינה ) \\n'\n",
       "                                   'offshore  ( במדינה \\n'\n",
       "                                   ')בפרט, הרזרבות ממוקמות חשיפה חזקה לסיכון '\n",
       "                                   'מדינה   מתפתחת(. \\n'\n",
       "                                   ')\\n'\n",
       "                                   'inland .(  ( במדינה מתפתחת \\n'\n",
       "                                   '          \\n'\n",
       "                                   '  הפחתה חלקית בלבד:  הפחתה מניחה את הדעת:  '\n",
       "                                   'הפחתה חזקה:  הפחתה חזקה מאוד:  הפחתת '\n",
       "                                   'סיכוני מדינה \\n'\n",
       "                                   'מנגנוני הוצאת רזרבות מחוץ   \\n'\n",
       "                                   ') למדינה offshore מנגנוני הוצאת רזרבות '\n",
       "                                   'מחוץ   ;( חזקים \\n'\n",
       "                                   'למדינה ) offshore ( ;    מנגנוני הוצאת '\n",
       "                                   'רזרבות מחוץ \\n'\n",
       "                                   'למדינה ) offshore ( ;    אין מנגנוני הוצאת '\n",
       "                                   'רזרבות מחוץ \\n'\n",
       "                                   'למדינה ) offshore ( ;   \\n'\n",
       "                                   '    ;סחורה בלתי אסטרטגית  ;סחורה פחות '\n",
       "                                   'אסטרטגית  ;סחורה אסטרטגית  ;סחורה '\n",
       "                                   'אסטרטגית'},\n",
       "              'score': 0.844164133,\n",
       "              'values': []}],\n",
       " 'namespace': '',\n",
       " 'usage': {'read_units': 6}}"
      ]
     },
     "execution_count": 41,
     "metadata": {},
     "output_type": "execute_result"
    }
   ],
   "source": [
    "# query = \"מהו נוהל בנקאי תקין?\"\n",
    "# query = \"מבנקאות פתוחה בישראל?\"\n",
    "query = \"האם חברת אשראי יכולה לסחור במטבע חוץ\"\n",
    "xq = embeddings_model.embed_query(query)\n",
    "res = index.query(vector=[xq], top_k=8, include_metadata=True)\n",
    "res"
   ]
  },
  {
   "cell_type": "code",
   "execution_count": 31,
   "metadata": {},
   "outputs": [
    {
     "data": {
      "text/plain": [
       "'אשראי, או לצורך  ביצוע התאמות לשיעורי הפסד היסטוריים. \\n31. תאגיד בנקאי יכול להשתמש בשיטות שונות לקיבוץ חובות , לצורך הערכה ומדידה של סיכוני \\nאשראי, בכפוף לנדרש בהוראות הדיווח לציבור . לדוגמה, חובות יכולים להיות מקובצים על  \\nבסיס אחד, או יותר, מהמאפיינים הבאים: אומדן ההסתברות לכשל , דירוגי אשראי, סוג מוצר \\nהאשראי, פלח שוק, מיקום גיאוגרפי, סוג הביטחונו ת ונתוני  פיגור בפירעון האשראי. מודלים  \\nמתוחכמים יותר להערכת סיכוני אשראי ושיטות  להערכת תזרימי מזומנים עתידיים צפויים, \\nוכן תהליכי דירוג אשראי, יכולים לשלב כמה ממאפיינים אלה. \\n32.  מדיניות ונהלים נאותים להערכה ולמדידה של סיכוני אשראי אינם תלויים במטרה לשמה \\nמבוצעות מדידת ההפרשות או הערכת הפסדי האשראי. כלומר, אותה מערכת נאותה להערכת \\nסיכוני אשראי מספקת את המידע או התוצרים, אשר ישמשו למדידת הפסדי האשראי לצורך \\nהערכת סיכוני אשראי, לטיפול ה חשבונאי, וכן למטרת הערכת הלימות ההון של התאגיד \\nהבנקאי לפי גישת הדירוגים הפנימיים (כאשר מיושמת). זה יכול להביא לכך שהערכות דומות'"
      ]
     },
     "execution_count": 31,
     "metadata": {},
     "output_type": "execute_result"
    }
   ],
   "source": [
    "ara = res['matches'][0]['metadata']['text']\n",
    "ara\n"
   ]
  },
  {
   "cell_type": "code",
   "execution_count": 167,
   "metadata": {},
   "outputs": [
    {
     "name": "stdout",
     "output_type": "stream",
     "text": [
      "score: 0.87 test: על יציבות חברת הבת. בנוסף, המדיניות צריכה לטפל ב גורמי הבקרה החשובים ביחס לסקירת \n",
      "האשראי הפרטני ת, וביחס ל פיזור נאות של התיק בכללותו. \n",
      " \n",
      "02. \"\"סיכון מדינה\" ו\"סיכון העברה: \n",
      "א. כאשר תאגיד בנקאי עוסק במתן אשראי בינלאומי, הוא נוטל על עצמו, בנוסף  על סיכון \n",
      "האשראי הרגיל, גם סיכון הקשור לתנאים המתקיימים במדינתו של הלווה, או של הצד \n",
      "הנגדי לעסקה. \"סיכון מדינה \" כולל מגוון סיכונים ה קשורים לסביבה הכלכלית,  \n",
      "הפוליטית והחברתית של אותה מדינה, אשר יש אפשרות ש הם ישפיעו על חובות  של המפקח על הבנקים: ניהול בנקאי תקין   [10( ] 11/23) \n",
      "ניהול סיכון אשראי  עמ' 11 - 311 \n",
      " \n",
      " גורמים מקומיים במדינה זו לתאגיד הבנקאי, ועל השקעות שנעשו בה. \"סיכון העברה \" \n",
      "מתמקד ביכולתו של הלווה להשיג מטבע חוץ בכמות הנדרשת לפירעון  חובותיו למלווים \n",
      "זרים, ולעמידה ב התחייבויות חוזיות נוספות שנלקח על עצמו . ב ביצוע כל עסקאותיו \n",
      "הבינלאומיות, תאגיד בנקאי  חייב להבין את השווקים הפיננסים הבינלאומיים , ואת \n",
      "האפשרות  של גלישת השפעות ממדינה אחת לאחרת או של התפשטות של השפעות  \n",
      "שליליות ממדינה אחת  לכל האזור לו היא שייכת. \n",
      "\n",
      "\n",
      "\n",
      "\n",
      "score: 0.86 test: אשראי, או לצורך  ביצוע התאמות לשיעורי הפסד היסטוריים. \n",
      "31. תאגיד בנקאי יכול להשתמש בשיטות שונות לקיבוץ חובות , לצורך הערכה ומדידה של סיכוני \n",
      "אשראי, בכפוף לנדרש בהוראות הדיווח לציבור . לדוגמה, חובות יכולים להיות מקובצים על  \n",
      "בסיס אחד, או יותר, מהמאפיינים הבאים: אומדן ההסתברות לכשל , דירוגי אשראי, סוג מוצר \n",
      "האשראי, פלח שוק, מיקום גיאוגרפי, סוג הביטחונו ת ונתוני  פיגור בפירעון האשראי. מודלים  \n",
      "מתוחכמים יותר להערכת סיכוני אשראי ושיטות  להערכת תזרימי מזומנים עתידיים צפויים, \n",
      "וכן תהליכי דירוג אשראי, יכולים לשלב כמה ממאפיינים אלה. \n",
      "32.  מדיניות ונהלים נאותים להערכה ולמדידה של סיכוני אשראי אינם תלויים במטרה לשמה \n",
      "מבוצעות מדידת ההפרשות או הערכת הפסדי האשראי. כלומר, אותה מערכת נאותה להערכת \n",
      "סיכוני אשראי מספקת את המידע או התוצרים, אשר ישמשו למדידת הפסדי האשראי לצורך \n",
      "הערכת סיכוני אשראי, לטיפול ה חשבונאי, וכן למטרת הערכת הלימות ההון של התאגיד \n",
      "הבנקאי לפי גישת הדירוגים הפנימיים (כאשר מיושמת). זה יכול להביא לכך שהערכות דומות \n",
      "\n",
      "\n",
      "\n",
      "\n",
      "score: 0.86 test: האשראי מבוצעת תוך ציות למדיניות ו לנוהלי האשראי של התאגיד הבנקאי, שהאשראי  מאושר  \n",
      "בהתאם להנחיות שנקבעו על ידי הדירקטוריון , ושקיומו, איכות ו וערכו של אשראי ספציפי \n",
      "מדווחים באופן  מדויק להנהלה הבכירה. ביקורות אלה ישמשו גם לזיהוי חולשות בתהליך ניהול \n",
      "סיכון האשראי, במדיניות ובנהלים וכן לזיהוי כל חריגה מהמדיניות, מהנהלים ו מהמגבלות.  \n",
      " \n",
      "עיקרון מספר 16  : לתאגיד בנקאייהיו מערכות ותהליכים לנקיטת פעולות מתקנות בשלב מוקדם של \n",
      "הידרדרות אשראי, לניהול חובות בעייתיים, להסדרת חובות בקשיים  ולפעולות דומות. \n",
      " \n",
      "82.  אחתהמטרות  של תהליך שיטתי לסקירת אשראי, היא זיהוי  היחלשות  של אשראי, ובפרט, זיהוי  \n",
      "אשראי בעייתי. יש לזהות הידרדרות באיכות האשראי בשלב מוקדם , בו ישנן יותר אפשרויות \n",
      "לשיפור האשראי. תאגיד בנקאי יקיים תהליך ניהולי שיטתי ונמרץ לשיפור  אשראי בקשיים, \n",
      "המופעל כתוצאה מאירועים ספציפיים, אשר נקבעים על ידי מערכות לתפעול אשראי ומערכות \n",
      "לזיהוי  וסיווג אשראי בעייתי. \n",
      "83.  מדיניות האשראי של תאגיד בנקאיתקבע בבהירות  כיצד התאגיד הבנקאי מנהל אשראי בעייתי. \n",
      "\n",
      "\n",
      "\n",
      "\n"
     ]
    }
   ],
   "source": [
    "for match in res['matches']:\n",
    "    print(f\"score: {match['score']:.2f} test: {match['metadata']['text']} \\n\\n\\n\\n\")"
   ]
  },
  {
   "cell_type": "code",
   "execution_count": 12,
   "metadata": {},
   "outputs": [],
   "source": [
    "from langchain.llms import OpenAI\n",
    "from langchain.chains.question_answering import load_qa_chain"
   ]
  },
  {
   "cell_type": "code",
   "execution_count": 2,
   "metadata": {},
   "outputs": [
    {
     "name": "stdout",
     "output_type": "stream",
     "text": [
      "\u001b[1;31mSignature:\u001b[0m\n",
      "\u001b[0mload_qa_chain\u001b[0m\u001b[1;33m(\u001b[0m\u001b[1;33m\n",
      "\u001b[0m    \u001b[0mllm\u001b[0m\u001b[1;33m:\u001b[0m \u001b[0mlangchain_core\u001b[0m\u001b[1;33m.\u001b[0m\u001b[0mlanguage_models\u001b[0m\u001b[1;33m.\u001b[0m\u001b[0mbase\u001b[0m\u001b[1;33m.\u001b[0m\u001b[0mBaseLanguageModel\u001b[0m\u001b[1;33m,\u001b[0m\u001b[1;33m\n",
      "\u001b[0m    \u001b[0mchain_type\u001b[0m\u001b[1;33m:\u001b[0m \u001b[0mstr\u001b[0m \u001b[1;33m=\u001b[0m \u001b[1;34m'stuff'\u001b[0m\u001b[1;33m,\u001b[0m\u001b[1;33m\n",
      "\u001b[0m    \u001b[0mverbose\u001b[0m\u001b[1;33m:\u001b[0m \u001b[0mOptional\u001b[0m\u001b[1;33m[\u001b[0m\u001b[0mbool\u001b[0m\u001b[1;33m]\u001b[0m \u001b[1;33m=\u001b[0m \u001b[1;32mNone\u001b[0m\u001b[1;33m,\u001b[0m\u001b[1;33m\n",
      "\u001b[0m    \u001b[0mcallback_manager\u001b[0m\u001b[1;33m:\u001b[0m \u001b[0mOptional\u001b[0m\u001b[1;33m[\u001b[0m\u001b[0mlangchain_core\u001b[0m\u001b[1;33m.\u001b[0m\u001b[0mcallbacks\u001b[0m\u001b[1;33m.\u001b[0m\u001b[0mbase\u001b[0m\u001b[1;33m.\u001b[0m\u001b[0mBaseCallbackManager\u001b[0m\u001b[1;33m]\u001b[0m \u001b[1;33m=\u001b[0m \u001b[1;32mNone\u001b[0m\u001b[1;33m,\u001b[0m\u001b[1;33m\n",
      "\u001b[0m    \u001b[1;33m**\u001b[0m\u001b[0mkwargs\u001b[0m\u001b[1;33m:\u001b[0m \u001b[0mAny\u001b[0m\u001b[1;33m,\u001b[0m\u001b[1;33m\n",
      "\u001b[0m\u001b[1;33m)\u001b[0m \u001b[1;33m->\u001b[0m \u001b[0mlangchain\u001b[0m\u001b[1;33m.\u001b[0m\u001b[0mchains\u001b[0m\u001b[1;33m.\u001b[0m\u001b[0mcombine_documents\u001b[0m\u001b[1;33m.\u001b[0m\u001b[0mbase\u001b[0m\u001b[1;33m.\u001b[0m\u001b[0mBaseCombineDocumentsChain\u001b[0m\u001b[1;33m\u001b[0m\u001b[1;33m\u001b[0m\u001b[0m\n",
      "\u001b[1;31mDocstring:\u001b[0m\n",
      "Load question answering chain.\n",
      "\n",
      "Args:\n",
      "    llm: Language Model to use in the chain.\n",
      "    chain_type: Type of document combining chain to use. Should be one of \"stuff\",\n",
      "        \"map_reduce\", \"map_rerank\", and \"refine\".\n",
      "    verbose: Whether chains should be run in verbose mode or not. Note that this\n",
      "        applies to all chains that make up the final chain.\n",
      "    callback_manager: Callback manager to use for the chain.\n",
      "\n",
      "Returns:\n",
      "    A chain to use for question answering.\n",
      "\u001b[1;31mFile:\u001b[0m      c:\\users\\nirx_pc\\documents\\python projects\\langchain_nir\\lang_env\\lib\\site-packages\\langchain\\chains\\question_answering\\__init__.py\n",
      "\u001b[1;31mType:\u001b[0m      function"
     ]
    }
   ],
   "source": [
    "load_qa_chain?"
   ]
  },
  {
   "cell_type": "code",
   "execution_count": 42,
   "metadata": {},
   "outputs": [],
   "source": [
    "llm = OpenAI(temperature=0, openai_api_key=openai_api_key)\n",
    "chain = load_qa_chain(llm, chain_type=\"stuff\")"
   ]
  },
  {
   "cell_type": "code",
   "execution_count": 49,
   "metadata": {},
   "outputs": [
    {
     "name": "stdout",
     "output_type": "stream",
     "text": [
      "\u001b[1;31mSignature:\u001b[0m\n",
      "\u001b[0mchain\u001b[0m\u001b[1;33m.\u001b[0m\u001b[0minvoke\u001b[0m\u001b[1;33m(\u001b[0m\u001b[1;33m\n",
      "\u001b[0m    \u001b[0minput\u001b[0m\u001b[1;33m:\u001b[0m \u001b[0mDict\u001b[0m\u001b[1;33m[\u001b[0m\u001b[0mstr\u001b[0m\u001b[1;33m,\u001b[0m \u001b[0mAny\u001b[0m\u001b[1;33m]\u001b[0m\u001b[1;33m,\u001b[0m\u001b[1;33m\n",
      "\u001b[0m    \u001b[0mconfig\u001b[0m\u001b[1;33m:\u001b[0m \u001b[0mOptional\u001b[0m\u001b[1;33m[\u001b[0m\u001b[0mlangchain_core\u001b[0m\u001b[1;33m.\u001b[0m\u001b[0mrunnables\u001b[0m\u001b[1;33m.\u001b[0m\u001b[0mconfig\u001b[0m\u001b[1;33m.\u001b[0m\u001b[0mRunnableConfig\u001b[0m\u001b[1;33m]\u001b[0m \u001b[1;33m=\u001b[0m \u001b[1;32mNone\u001b[0m\u001b[1;33m,\u001b[0m\u001b[1;33m\n",
      "\u001b[0m    \u001b[1;33m**\u001b[0m\u001b[0mkwargs\u001b[0m\u001b[1;33m:\u001b[0m \u001b[0mAny\u001b[0m\u001b[1;33m,\u001b[0m\u001b[1;33m\n",
      "\u001b[0m\u001b[1;33m)\u001b[0m \u001b[1;33m->\u001b[0m \u001b[0mDict\u001b[0m\u001b[1;33m[\u001b[0m\u001b[0mstr\u001b[0m\u001b[1;33m,\u001b[0m \u001b[0mAny\u001b[0m\u001b[1;33m]\u001b[0m\u001b[1;33m\u001b[0m\u001b[1;33m\u001b[0m\u001b[0m\n",
      "\u001b[1;31mDocstring:\u001b[0m\n",
      "Transform a single input into an output. Override to implement.\n",
      "\n",
      "Args:\n",
      "    input: The input to the runnable.\n",
      "    config: A config to use when invoking the runnable.\n",
      "       The config supports standard keys like 'tags', 'metadata' for tracing\n",
      "       purposes, 'max_concurrency' for controlling how much work to do\n",
      "       in parallel, and other keys. Please refer to the RunnableConfig\n",
      "       for more details.\n",
      "\n",
      "Returns:\n",
      "    The output of the runnable.\n",
      "\u001b[1;31mFile:\u001b[0m      c:\\users\\nirx_pc\\documents\\python projects\\langchain_nir\\lang_env\\lib\\site-packages\\langchain\\chains\\base.py\n",
      "\u001b[1;31mType:\u001b[0m      method"
     ]
    }
   ],
   "source": [
    "chain.invoke?"
   ]
  },
  {
   "cell_type": "code",
   "execution_count": 77,
   "metadata": {},
   "outputs": [
    {
     "ename": "AttributeError",
     "evalue": "type object 'Pinecone' has no attribute 'from_text'",
     "output_type": "error",
     "traceback": [
      "\u001b[1;31m---------------------------------------------------------------------------\u001b[0m",
      "\u001b[1;31mAttributeError\u001b[0m                            Traceback (most recent call last)",
      "Cell \u001b[1;32mIn[77], line 1\u001b[0m\n\u001b[1;32m----> 1\u001b[0m docsearch \u001b[38;5;241m=\u001b[39m \u001b[43mPinecone\u001b[49m\u001b[38;5;241;43m.\u001b[39;49m\u001b[43mfrom_text\u001b[49m([t\u001b[38;5;241m.\u001b[39mpage_content \u001b[38;5;28;01mfor\u001b[39;00m t \u001b[38;5;129;01min\u001b[39;00m text],embeddings_model,index_name\u001b[38;5;241m=\u001b[39mindex_name_1536)\n",
      "\u001b[1;31mAttributeError\u001b[0m: type object 'Pinecone' has no attribute 'from_text'"
     ]
    }
   ],
   "source": [
    "docsearch = Pinecone.from_text([t.page_content for t in text],embeddings_model,index_name=index_name_1536)"
   ]
  },
  {
   "cell_type": "markdown",
   "metadata": {},
   "source": [
    "### Create conversation chain"
   ]
  },
  {
   "cell_type": "code",
   "execution_count": 171,
   "metadata": {},
   "outputs": [],
   "source": [
    "from langchain.memory import ConversationBufferMemory\n",
    "from langchain.chains import ConversationalRetrievalChain\n",
    "# from langchain.llms import OpenAI\n",
    "from langchain.chat_models import ChatOpenAI"
   ]
  },
  {
   "cell_type": "code",
   "execution_count": null,
   "metadata": {},
   "outputs": [],
   "source": []
  },
  {
   "cell_type": "code",
   "execution_count": 206,
   "metadata": {},
   "outputs": [],
   "source": [
    "def get_conversation_chain(vectorstore):\n",
    "    llm = ChatOpenAI()\n",
    "    memory = ConversationBufferMemory(memory_key='chat_history', return_messages=True)\n",
    "    conversation_chain = ConversationalRetrievalChain.from_llm(\n",
    "        llm=llm,\n",
    "        # retriever=vectorstore.as_retriver(),\n",
    "        # retriever=vectorstore,\n",
    "        memory=memory\n",
    "    )\n",
    "    return conversation_chain"
   ]
  },
  {
   "cell_type": "code",
   "execution_count": 207,
   "metadata": {},
   "outputs": [
    {
     "ename": "TypeError",
     "evalue": "ConversationalRetrievalChain.from_llm() missing 1 required positional argument: 'retriever'",
     "output_type": "error",
     "traceback": [
      "\u001b[1;31m---------------------------------------------------------------------------\u001b[0m",
      "\u001b[1;31mTypeError\u001b[0m                                 Traceback (most recent call last)",
      "Cell \u001b[1;32mIn[207], line 3\u001b[0m\n\u001b[0;32m      1\u001b[0m text1 \u001b[38;5;241m=\u001b[39m res[\u001b[38;5;124m'\u001b[39m\u001b[38;5;124mmatches\u001b[39m\u001b[38;5;124m'\u001b[39m][\u001b[38;5;241m0\u001b[39m][\u001b[38;5;124m'\u001b[39m\u001b[38;5;124mmetadata\u001b[39m\u001b[38;5;124m'\u001b[39m][\u001b[38;5;124m'\u001b[39m\u001b[38;5;124mtext\u001b[39m\u001b[38;5;124m'\u001b[39m]\n\u001b[1;32m----> 3\u001b[0m \u001b[43mget_conversation_chain\u001b[49m\u001b[43m(\u001b[49m\u001b[43mtext1\u001b[49m\u001b[43m)\u001b[49m\n",
      "Cell \u001b[1;32mIn[206], line 4\u001b[0m, in \u001b[0;36mget_conversation_chain\u001b[1;34m(vectorstore)\u001b[0m\n\u001b[0;32m      2\u001b[0m llm \u001b[38;5;241m=\u001b[39m ChatOpenAI()\n\u001b[0;32m      3\u001b[0m memory \u001b[38;5;241m=\u001b[39m ConversationBufferMemory(memory_key\u001b[38;5;241m=\u001b[39m\u001b[38;5;124m'\u001b[39m\u001b[38;5;124mchat_history\u001b[39m\u001b[38;5;124m'\u001b[39m, return_messages\u001b[38;5;241m=\u001b[39m\u001b[38;5;28;01mTrue\u001b[39;00m)\n\u001b[1;32m----> 4\u001b[0m conversation_chain \u001b[38;5;241m=\u001b[39m \u001b[43mConversationalRetrievalChain\u001b[49m\u001b[38;5;241;43m.\u001b[39;49m\u001b[43mfrom_llm\u001b[49m\u001b[43m(\u001b[49m\n\u001b[0;32m      5\u001b[0m \u001b[43m    \u001b[49m\u001b[43mllm\u001b[49m\u001b[38;5;241;43m=\u001b[39;49m\u001b[43mllm\u001b[49m\u001b[43m,\u001b[49m\n\u001b[0;32m      6\u001b[0m \u001b[43m    \u001b[49m\u001b[38;5;66;43;03m# retriever=vectorstore.as_retriver(),\u001b[39;49;00m\n\u001b[0;32m      7\u001b[0m \u001b[43m    \u001b[49m\u001b[38;5;66;43;03m# retriever=vectorstore,\u001b[39;49;00m\n\u001b[0;32m      8\u001b[0m \u001b[43m    \u001b[49m\u001b[43mmemory\u001b[49m\u001b[38;5;241;43m=\u001b[39;49m\u001b[43mmemory\u001b[49m\n\u001b[0;32m      9\u001b[0m \u001b[43m\u001b[49m\u001b[43m)\u001b[49m\n\u001b[0;32m     10\u001b[0m \u001b[38;5;28;01mreturn\u001b[39;00m conversation_chain\n",
      "\u001b[1;31mTypeError\u001b[0m: ConversationalRetrievalChain.from_llm() missing 1 required positional argument: 'retriever'"
     ]
    }
   ],
   "source": [
    "text1 = res['matches'][0]['metadata']['text']\n",
    "\n",
    "get_conversation_chain(text1)\n"
   ]
  },
  {
   "cell_type": "markdown",
   "metadata": {},
   "source": [
    "https://python.langchain.com/docs/get_started/quickstart/"
   ]
  },
  {
   "cell_type": "code",
   "execution_count": 28,
   "metadata": {},
   "outputs": [],
   "source": [
    "import langchain_openai\n",
    "from langchain_openai import ChatOpenAI\n",
    "from langchain_core.prompts import ChatPromptTemplate\n",
    "from langchain_core.output_parsers import StrOutputParser\n",
    "from dotenv import load_dotenv\n",
    "import os\n"
   ]
  },
  {
   "cell_type": "code",
   "execution_count": 12,
   "metadata": {},
   "outputs": [],
   "source": [
    "\n",
    "load_dotenv()\n",
    "openai_api_key = os.getenv(\"OPENAI_API_KEY\")\n"
   ]
  },
  {
   "cell_type": "code",
   "execution_count": 15,
   "metadata": {},
   "outputs": [],
   "source": [
    "llm = ChatOpenAI(api_key=openai_api_key, model=\"gpt-4-turbo\")\n",
    "# llm2 = ChatOpenAI(api_key=openai_api_key, model=\"gpt-4-turbo-2024-04-09\")"
   ]
  },
  {
   "cell_type": "code",
   "execution_count": 54,
   "metadata": {},
   "outputs": [
    {
     "data": {
      "text/plain": [
       "ChatOpenAI(client=<openai.resources.chat.completions.Completions object at 0x000001FFA589F450>, async_client=<openai.resources.chat.completions.AsyncCompletions object at 0x000001FFA4317B10>, model_name='gpt-4-turbo', openai_api_key=SecretStr('**********'), openai_proxy='')"
      ]
     },
     "execution_count": 54,
     "metadata": {},
     "output_type": "execute_result"
    }
   ],
   "source": [
    "llm"
   ]
  },
  {
   "cell_type": "code",
   "execution_count": 53,
   "metadata": {},
   "outputs": [],
   "source": []
  },
  {
   "cell_type": "code",
   "execution_count": 55,
   "metadata": {},
   "outputs": [
    {
     "data": {
      "text/plain": [
       "ChatOpenAI(client=<openai.resources.chat.completions.Completions object at 0x000001FFA809FC50>, async_client=<openai.resources.chat.completions.AsyncCompletions object at 0x000001FFA811F790>, model_name='gpt-4-turbo-2024-04-09', openai_api_key=SecretStr('**********'), openai_proxy='')"
      ]
     },
     "execution_count": 55,
     "metadata": {},
     "output_type": "execute_result"
    }
   ],
   "source": [
    "llm2"
   ]
  },
  {
   "cell_type": "code",
   "execution_count": 24,
   "metadata": {},
   "outputs": [],
   "source": [
    "query = \"with python, how to use langchain_openai with text of my own and query strin\""
   ]
  },
  {
   "cell_type": "code",
   "execution_count": 16,
   "metadata": {},
   "outputs": [
    {
     "data": {
      "text/plain": [
       "AIMessage(content='As of my last update in January 2023, `langchain_openai` doesn\\'t directly refer to a specific, well-known library or API in mainstream use for integrating OpenAI\\'s models. However, it is possible that you are referring to a custom or lesser-known implementation or simply asking how to use OpenAI\\'s API (from OpenAI, the creators of GPT models) with your own text and a query. I\\'ll provide guidance on how to use OpenAI\\'s API (such as GPT-3 or ChatGPT) with your own input text and a query string.\\n\\n### Step 1: Set Up an OpenAI API Account\\n\\nBefore you can start using the OpenAI API, you need to create an account and obtain API keys. Here’s how you can do it:\\n\\n1. Visit the OpenAI website and sign up for an account if you haven’t already.\\n2. After logging in, navigate to the API section and generate an API key. Keep this key secure as it allows usage of the API which you will be billed for based on usage.\\n\\n### Step 2: Install Required Libraries\\n\\nYou\\'ll need the `openai` Python library to interact with the API. Install it using pip if you haven\\'t already:\\n\\n```bash\\npip install openai\\n```\\n\\n### Step 3: Use the OpenAI API with Your Text and Query\\n\\nHere’s a basic example of how to use the OpenAI API with your text (as context) and a query. We\\'ll assume you\\'re using Python for this example:\\n\\n```python\\nimport openai\\n\\n# Replace \\'your-api-key\\' with your actual OpenAI API key\\nopenai.api_key = \\'your-api-key\\'\\n\\n# Your text and query\\ncontext = \"Your text goes here. This text will be the context for the query.\"\\nquery = \"Your query based on the above context.\"\\n\\n# Using the OpenAI API (for example, the \"davinci\" engine from GPT-3)\\ntry:\\n    response = openai.Completion.create(\\n      engine=\"text-davinci-002\",  # Choose the appropriate model based on your needs\\n      prompt=f\"{context}\\\\n\\\\n###\\\\n\\\\n{query}\",\\n      max_tokens=150\\n    )\\n    print(response.choices[0].text.strip())\\nexcept Exception as e:\\n    print(f\"An error occurred: {e}\")\\n```\\n\\n### Explanation:\\n\\n1. **API Key**: Replace `\\'your-api-key\\'` with your actual OpenAI API key.\\n2. **Context and Query**: Define the context (`context`) and the query (`query`). The context is the information or background you provide to the model, and the query is what you are asking based on that context.\\n3. **Model Selection**: I used `text-davinci-002` as an example, but you should choose the model that best fits your needs. OpenAI offers various models with different capabilities and pricing.\\n4. **Prompt Formatting**: The prompt combines the context and the query. How you format this can significantly impact the quality of the output. The example uses a simple separator (`###`) to distinguish between the context and the question.\\n5. **Max Tokens**: This parameter defines the maximum length of the response. Adjust this based on how detailed you want the response to be.\\n\\n### Step 4: Running the Code\\n\\nRun your script in an environment where Python is installed, and the `openai` library is available. Make sure you handle exceptions to catch any errors that might occur, particularly those related to API limits, incorrect API keys, or network issues.\\n\\nThis will give you the ability to interact with your own text and queries using OpenAI\\'s powerful models. Always consider the ethical implications and usage guidelines provided by OpenAI when using their API.', response_metadata={'token_usage': {'completion_tokens': 771, 'prompt_tokens': 23, 'total_tokens': 794}, 'model_name': 'gpt-4-turbo', 'system_fingerprint': 'fp_3450ce39d5', 'finish_reason': 'stop', 'logprobs': None}, id='run-9fe87170-a993-4791-8084-0473f6e02909-0')"
      ]
     },
     "execution_count": 16,
     "metadata": {},
     "output_type": "execute_result"
    }
   ],
   "source": [
    "llm.invoke(query)"
   ]
  },
  {
   "cell_type": "code",
   "execution_count": 30,
   "metadata": {},
   "outputs": [],
   "source": [
    "prompt = ChatPromptTemplate.from_messages([\n",
    "    (\"system\", \"You are a AI code instractor the need to present me the code with python, I am an experienced python programmer\"),\n",
    "    (\"user\", \"{input}\")\n",
    "])"
   ]
  },
  {
   "cell_type": "code",
   "execution_count": 22,
   "metadata": {},
   "outputs": [],
   "source": [
    "chain = prompt | llm "
   ]
  },
  {
   "cell_type": "code",
   "execution_count": 25,
   "metadata": {},
   "outputs": [
    {
     "data": {
      "text/plain": [
       "AIMessage(content='To use the `langchain_openai` library in Python to process your own text and a query string, you first need to install the library and then use it to create a model that can respond to queries based on the text you provide. Below, I provide a step-by-step guide on how to set this up.\\n\\n### Step 1: Install Langchain and OpenAI Libraries\\n\\nYou\\'ll need Python installed on your system. If you haven\\'t installed Python yet, download and install it from [python.org](https://www.python.org/). Then, you can install the `langchain` and `openai` libraries using pip:\\n\\n```bash\\npip install langchain openai\\n```\\n\\n### Step 2: Setup OpenAI API Key\\n\\nTo use the OpenAI models, you\\'ll need an API key from OpenAI. You can obtain this by creating an account on the OpenAI website and subscribing to the API service. Once you have your API key, you should set it as an environment variable or securely include it in your script. For this example, I will show how to set it directly in the script, but remember to keep your API key secure.\\n\\n### Step 3: Write Python Code\\n\\nHere\\'s a basic script that uses `langchain_openai` to process a text and respond to a specific query:\\n\\n```python\\nfrom langchain.chains import Chain\\nfrom langchain.schema import Prompt\\nfrom langchain.prompts import FixedPrompt, QueryAnswerPrompt\\nfrom langchain.openai import OpenAICompletion\\n\\nimport openai\\n\\n# Set your OpenAI API key here\\nopenai.api_key = \\'your-openai-api-key\\'\\n\\n# Create an OpenAI completion client\\ncompletion_client = OpenAICompletion()\\n\\n# Define your text and query\\nyour_text = \"This is the text that you want to analyze. It contains several important points about your topic.\"\\nquery = \"What are the important points mentioned in the text?\"\\n\\n# Create a chain with a custom prompt\\nchain = Chain(\\n    prompts=[\\n        FixedPrompt(your_text),\\n        QueryAnswerPrompt()\\n    ],\\n    client=completion_client\\n)\\n\\n# Construct a prompt\\nprompt = Prompt(query=query)\\n\\n# Get the response\\nresponse = chain.run(prompt)\\n\\n# Print the response\\nprint(response.generated_text)\\n```\\n\\n### Explanation\\n\\n1. **Import Necessary Modules**: Import classes from `langchain` and `openai`.\\n2. **API Key**: Set the OpenAI API key.\\n3. **Completion Client**: Create an instance of `OpenAICompletion`.\\n4. **Text and Query**: Define the text you want to analyze and the query you want to ask.\\n5. **Chain**: Create a `Chain` instance with a list of prompts. The `FixedPrompt` is used to insert your text, and the `QueryAnswerPrompt` is designed to generate a response based on the query.\\n6. **Run the Chain**: The `chain.run()` method is called with your query, and the response is fetched.\\n7. **Output**: Print the response.\\n\\nThis example uses the `langchain` library to structure the interaction with the OpenAI model, making it easier to process texts and queries flexibly. Adjust the `your_text` and `query` variables as needed to fit your specific use case.', response_metadata={'token_usage': {'completion_tokens': 669, 'prompt_tokens': 47, 'total_tokens': 716}, 'model_name': 'gpt-4-turbo', 'system_fingerprint': 'fp_ea6eb70039', 'finish_reason': 'stop', 'logprobs': None}, id='run-75fd5af1-a9db-4551-8d61-129e24255969-0')"
      ]
     },
     "execution_count": 25,
     "metadata": {},
     "output_type": "execute_result"
    }
   ],
   "source": [
    "chain.invoke({\"input\": query})"
   ]
  },
  {
   "cell_type": "code",
   "execution_count": 29,
   "metadata": {},
   "outputs": [],
   "source": [
    "output_parser = StrOutputParser()"
   ]
  },
  {
   "cell_type": "code",
   "execution_count": 31,
   "metadata": {},
   "outputs": [],
   "source": [
    "chain = prompt | llm | output_parser"
   ]
  },
  {
   "cell_type": "code",
   "execution_count": 33,
   "metadata": {},
   "outputs": [
    {
     "data": {
      "text/plain": [
       "'To use the `langchain_openai` package for integrating OpenAI models with your custom text and a specific query, you first need to install the package and have access to the OpenAI API. Below, I\\'ll guide you through setting up a simple Python script that sends a custom text and a query to an OpenAI model using `langchain_openai`.\\n\\n### Step 1: Install the Necessary Package\\n\\nFirst, ensure that you have the `langchain_openai` package installed. You can install it using pip:\\n\\n```bash\\npip install langchain-openai\\n```\\n\\n### Step 2: Set Up Your API Key\\n\\nMake sure you have an API key from OpenAI. This key is necessary to authenticate your requests.\\n\\n### Step 3: Write the Python Code\\n\\nBelow is a simple Python script that demonstrates how to use `langchain_openai` to send a custom text along with a query string to the OpenAI model:\\n\\n```python\\nfrom langchain.chains import SingleComponentChain\\nfrom langchain.schema import Prompt\\nfrom langchain.clients.openai import OpenAI\\n\\ndef main():\\n    # Replace \\'your_openai_api_key\\' with your actual OpenAI API key\\n    openai_api_key = \\'your_openai_api_key\\'  \\n    \\n    # Initialize the OpenAI client\\n    openai_client = OpenAI(api_key=openai_api_key)\\n\\n    # Create a single component chain using the OpenAI client\\n    chain = SingleComponentChain(component=openai_client)\\n\\n    # Example text and query\\n    custom_text = \"The quick brown fox jumps over the lazy dog.\"\\n    query = \"What is the moral of the story?\"\\n\\n    # Compose your prompt\\n    prompt = Prompt(f\"{custom_text}\\\\n\\\\n###\\\\n\\\\n{query}\\\\n\")\\n\\n    # Run the chain with the given prompt\\n    result = chain.run(prompt)\\n\\n    # Print the result\\n    print(\"Response:\", result)\\n\\nif __name__ == \"__main__\":\\n    main()\\n```\\n\\n### Explanation:\\n\\n- **OpenAI Client**: First, you initialize the `OpenAI` client with your API key. This client is responsible for interacting with the OpenAI API.\\n  \\n- **Single Component Chain**: The `SingleComponentChain` is used here for simplicity, which consists of a single component (in this case, the OpenAI client).\\n\\n- **Prompt Composition**: The prompt is composed by appending your query to the custom text, separated by some markup (e.g., `###`) to clearly define the separation in the context for the model.\\n\\n- **Running the Chain**: The chain is then executed with the composed prompt, and the result is obtained.\\n\\n- **Output**: Finally, the output of the model\\'s response is printed.\\n\\n### Step 4: Run Your Script\\n\\nMake sure that everything is set up correctly, and then run your Python script. You should see the response from the OpenAI model based on your custom text and query.\\n\\nThis is a basic example to get you started. Depending on your specific needs, `langchain_openai` offers more complex configurations and possibilities, such as using multiple components in a chain for more sophisticated workflows.'"
      ]
     },
     "execution_count": 33,
     "metadata": {},
     "output_type": "execute_result"
    }
   ],
   "source": [
    "chain.invoke({\"input\": query})"
   ]
  },
  {
   "cell_type": "code",
   "execution_count": 14,
   "metadata": {},
   "outputs": [
    {
     "data": {
      "text/plain": [
       "['Config',\n",
       " 'InputType',\n",
       " 'OutputType',\n",
       " '__abstractmethods__',\n",
       " '__annotations__',\n",
       " '__call__',\n",
       " '__class__',\n",
       " '__class_getitem__',\n",
       " '__class_vars__',\n",
       " '__config__',\n",
       " '__custom_root_type__',\n",
       " '__delattr__',\n",
       " '__dict__',\n",
       " '__dir__',\n",
       " '__doc__',\n",
       " '__eq__',\n",
       " '__exclude_fields__',\n",
       " '__fields__',\n",
       " '__fields_set__',\n",
       " '__format__',\n",
       " '__ge__',\n",
       " '__get_validators__',\n",
       " '__getattribute__',\n",
       " '__getstate__',\n",
       " '__gt__',\n",
       " '__hash__',\n",
       " '__include_fields__',\n",
       " '__init__',\n",
       " '__init_subclass__',\n",
       " '__iter__',\n",
       " '__json_encoder__',\n",
       " '__le__',\n",
       " '__lt__',\n",
       " '__module__',\n",
       " '__ne__',\n",
       " '__new__',\n",
       " '__or__',\n",
       " '__orig_bases__',\n",
       " '__parameters__',\n",
       " '__post_root_validators__',\n",
       " '__pre_root_validators__',\n",
       " '__pretty__',\n",
       " '__private_attributes__',\n",
       " '__reduce__',\n",
       " '__reduce_ex__',\n",
       " '__repr__',\n",
       " '__repr_args__',\n",
       " '__repr_name__',\n",
       " '__repr_str__',\n",
       " '__rich_repr__',\n",
       " '__ror__',\n",
       " '__schema_cache__',\n",
       " '__setattr__',\n",
       " '__setstate__',\n",
       " '__signature__',\n",
       " '__sizeof__',\n",
       " '__slots__',\n",
       " '__str__',\n",
       " '__subclasshook__',\n",
       " '__try_update_forward_refs__',\n",
       " '__validators__',\n",
       " '__weakref__',\n",
       " '_abatch_with_config',\n",
       " '_abc_impl',\n",
       " '_acall_with_config',\n",
       " '_agenerate',\n",
       " '_agenerate_with_cache',\n",
       " '_all_required_field_names',\n",
       " '_astream',\n",
       " '_atransform_stream_with_config',\n",
       " '_batch_with_config',\n",
       " '_calculate_keys',\n",
       " '_call_async',\n",
       " '_call_with_config',\n",
       " '_combine_llm_outputs',\n",
       " '_convert_input',\n",
       " '_copy_and_set_values',\n",
       " '_create_chat_result',\n",
       " '_create_message_dicts',\n",
       " '_decompose_class',\n",
       " '_default_params',\n",
       " '_enforce_dict_if_root',\n",
       " '_generate',\n",
       " '_generate_with_cache',\n",
       " '_get_encoding_model',\n",
       " '_get_invocation_params',\n",
       " '_get_llm_string',\n",
       " '_get_value',\n",
       " '_identifying_params',\n",
       " '_init_private_attributes',\n",
       " '_is_protocol',\n",
       " '_iter',\n",
       " '_lc_kwargs',\n",
       " '_llm_type',\n",
       " '_stream',\n",
       " '_transform_stream_with_config',\n",
       " 'abatch',\n",
       " 'abatch_as_completed',\n",
       " 'agenerate',\n",
       " 'agenerate_prompt',\n",
       " 'ainvoke',\n",
       " 'apredict',\n",
       " 'apredict_messages',\n",
       " 'assign',\n",
       " 'astream',\n",
       " 'astream_events',\n",
       " 'astream_log',\n",
       " 'async_client',\n",
       " 'atransform',\n",
       " 'batch',\n",
       " 'batch_as_completed',\n",
       " 'bind',\n",
       " 'bind_functions',\n",
       " 'bind_tools',\n",
       " 'build_extra',\n",
       " 'cache',\n",
       " 'call_as_llm',\n",
       " 'callback_manager',\n",
       " 'callbacks',\n",
       " 'client',\n",
       " 'config_schema',\n",
       " 'config_specs',\n",
       " 'configurable_alternatives',\n",
       " 'configurable_fields',\n",
       " 'construct',\n",
       " 'copy',\n",
       " 'default_headers',\n",
       " 'default_query',\n",
       " 'dict',\n",
       " 'from_orm',\n",
       " 'generate',\n",
       " 'generate_prompt',\n",
       " 'get_graph',\n",
       " 'get_input_schema',\n",
       " 'get_lc_namespace',\n",
       " 'get_name',\n",
       " 'get_num_tokens',\n",
       " 'get_num_tokens_from_messages',\n",
       " 'get_output_schema',\n",
       " 'get_prompts',\n",
       " 'get_token_ids',\n",
       " 'http_async_client',\n",
       " 'http_client',\n",
       " 'input_schema',\n",
       " 'invoke',\n",
       " 'is_lc_serializable',\n",
       " 'json',\n",
       " 'lc_attributes',\n",
       " 'lc_id',\n",
       " 'lc_secrets',\n",
       " 'map',\n",
       " 'max_retries',\n",
       " 'max_tokens',\n",
       " 'metadata',\n",
       " 'model_kwargs',\n",
       " 'model_name',\n",
       " 'n',\n",
       " 'name',\n",
       " 'openai_api_base',\n",
       " 'openai_api_key',\n",
       " 'openai_organization',\n",
       " 'openai_proxy',\n",
       " 'output_schema',\n",
       " 'parse_file',\n",
       " 'parse_obj',\n",
       " 'parse_raw',\n",
       " 'pick',\n",
       " 'pipe',\n",
       " 'predict',\n",
       " 'predict_messages',\n",
       " 'raise_deprecation',\n",
       " 'request_timeout',\n",
       " 'schema',\n",
       " 'schema_json',\n",
       " 'set_verbose',\n",
       " 'stream',\n",
       " 'streaming',\n",
       " 'tags',\n",
       " 'temperature',\n",
       " 'tiktoken_model_name',\n",
       " 'to_json',\n",
       " 'to_json_not_implemented',\n",
       " 'transform',\n",
       " 'update_forward_refs',\n",
       " 'validate',\n",
       " 'validate_environment',\n",
       " 'verbose',\n",
       " 'with_config',\n",
       " 'with_fallbacks',\n",
       " 'with_listeners',\n",
       " 'with_retry',\n",
       " 'with_structured_output',\n",
       " 'with_types']"
      ]
     },
     "execution_count": 14,
     "metadata": {},
     "output_type": "execute_result"
    }
   ],
   "source": [
    "dir(llm)"
   ]
  },
  {
   "cell_type": "code",
   "execution_count": 35,
   "metadata": {},
   "outputs": [
    {
     "name": "stdout",
     "output_type": "stream",
     "text": [
      "To use the `langchain_openai` package for integrating OpenAI models with your custom text and a specific query, you first need to install the package and have access to the OpenAI API. Below, I'll guide you through setting up a simple Python script that sends a custom text and a query to an OpenAI model using `langchain_openai`.\n",
      "\n",
      "### Step 1: Install the Necessary Package\n",
      "\n",
      "First, ensure that you have the `langchain_openai` package installed. You can install it using pip:\n",
      "\n",
      "```bash\n",
      "pip install langchain-openai\n",
      "```\n",
      "\n",
      "### Step 2: Set Up Your API Key\n",
      "\n",
      "Make sure you have an API key from OpenAI. This key is necessary to authenticate your requests.\n",
      "\n",
      "### Step 3: Write the Python Code\n",
      "\n",
      "Below is a simple Python script that demonstrates how to use `langchain_openai` to send a custom text along with a query string to the OpenAI model:\n",
      "\n",
      "```python\n",
      "from langchain.chains import SingleComponentChain\n",
      "from langchain.schema import Prompt\n",
      "from langchain.clients.openai import OpenAI\n",
      "\n",
      "def main():\n",
      "    # Replace 'your_openai_api_key' with your actual OpenAI API key\n",
      "    openai_api_key = 'your_openai_api_key'  \n",
      "    \n",
      "    # Initialize the OpenAI client\n",
      "    openai_client = OpenAI(api_key=openai_api_key)\n",
      "\n",
      "    # Create a single component chain using the OpenAI client\n",
      "    chain = SingleComponentChain(component=openai_client)\n",
      "\n",
      "    # Example text and query\n",
      "    custom_text = \"The quick brown fox jumps over the lazy dog.\"\n",
      "    query = \"What is the moral of the story?\"\n",
      "\n",
      "    # Compose your prompt\n",
      "    prompt = Prompt(f\"{custom_text}\\n\\n###\\n\\n{query}\\n\")\n",
      "\n",
      "    # Run the chain with the given prompt\n",
      "    result = chain.run(prompt)\n",
      "\n",
      "    # Print the result\n",
      "    print(\"Response:\", result)\n",
      "\n",
      "if __name__ == \"__main__\":\n",
      "    main()\n",
      "```\n",
      "\n",
      "### Explanation:\n",
      "\n",
      "- **OpenAI Client**: First, you initialize the `OpenAI` client with your API key. This client is responsible for interacting with the OpenAI API.\n",
      "  \n",
      "- **Single Component Chain**: The `SingleComponentChain` is used here for simplicity, which consists of a single component (in this case, the OpenAI client).\n",
      "\n",
      "- **Prompt Composition**: The prompt is composed by appending your query to the custom text, separated by some markup (e.g., `###`) to clearly define the separation in the context for the model.\n",
      "\n",
      "- **Running the Chain**: The chain is then executed with the composed prompt, and the result is obtained.\n",
      "\n",
      "- **Output**: Finally, the output of the model's response is printed.\n",
      "\n",
      "### Step 4: Run Your Script\n",
      "\n",
      "Make sure that everything is set up correctly, and then run your Python script. You should see the response from the OpenAI model based on your custom text and query.\n",
      "\n",
      "This is a basic example to get you started. Depending on your specific needs, `langchain_openai` offers more complex configurations and possibilities, such as using multiple components in a chain for more sophisticated workflows.\n"
     ]
    }
   ],
   "source": [
    "print('To use the `langchain_openai` package for integrating OpenAI models with your custom text and a specific query, you first need to install the package and have access to the OpenAI API. Below, I\\'ll guide you through setting up a simple Python script that sends a custom text and a query to an OpenAI model using `langchain_openai`.\\n\\n### Step 1: Install the Necessary Package\\n\\nFirst, ensure that you have the `langchain_openai` package installed. You can install it using pip:\\n\\n```bash\\npip install langchain-openai\\n```\\n\\n### Step 2: Set Up Your API Key\\n\\nMake sure you have an API key from OpenAI. This key is necessary to authenticate your requests.\\n\\n### Step 3: Write the Python Code\\n\\nBelow is a simple Python script that demonstrates how to use `langchain_openai` to send a custom text along with a query string to the OpenAI model:\\n\\n```python\\nfrom langchain.chains import SingleComponentChain\\nfrom langchain.schema import Prompt\\nfrom langchain.clients.openai import OpenAI\\n\\ndef main():\\n    # Replace \\'your_openai_api_key\\' with your actual OpenAI API key\\n    openai_api_key = \\'your_openai_api_key\\'  \\n    \\n    # Initialize the OpenAI client\\n    openai_client = OpenAI(api_key=openai_api_key)\\n\\n    # Create a single component chain using the OpenAI client\\n    chain = SingleComponentChain(component=openai_client)\\n\\n    # Example text and query\\n    custom_text = \"The quick brown fox jumps over the lazy dog.\"\\n    query = \"What is the moral of the story?\"\\n\\n    # Compose your prompt\\n    prompt = Prompt(f\"{custom_text}\\\\n\\\\n###\\\\n\\\\n{query}\\\\n\")\\n\\n    # Run the chain with the given prompt\\n    result = chain.run(prompt)\\n\\n    # Print the result\\n    print(\"Response:\", result)\\n\\nif __name__ == \"__main__\":\\n    main()\\n```\\n\\n### Explanation:\\n\\n- **OpenAI Client**: First, you initialize the `OpenAI` client with your API key. This client is responsible for interacting with the OpenAI API.\\n  \\n- **Single Component Chain**: The `SingleComponentChain` is used here for simplicity, which consists of a single component (in this case, the OpenAI client).\\n\\n- **Prompt Composition**: The prompt is composed by appending your query to the custom text, separated by some markup (e.g., `###`) to clearly define the separation in the context for the model.\\n\\n- **Running the Chain**: The chain is then executed with the composed prompt, and the result is obtained.\\n\\n- **Output**: Finally, the output of the model\\'s response is printed.\\n\\n### Step 4: Run Your Script\\n\\nMake sure that everything is set up correctly, and then run your Python script. You should see the response from the OpenAI model based on your custom text and query.\\n\\nThis is a basic example to get you started. Depending on your specific needs, `langchain_openai` offers more complex configurations and possibilities, such as using multiple components in a chain for more sophisticated workflows.')"
   ]
  },
  {
   "cell_type": "markdown",
   "metadata": {},
   "source": [
    "### Retrieval Chain"
   ]
  },
  {
   "cell_type": "code",
   "execution_count": 45,
   "metadata": {},
   "outputs": [],
   "source": [
    "from langchain_community.document_loaders import WebBaseLoader\n",
    "from langchain_openai import OpenAIEmbeddings\n",
    "from langchain_community.vectorstores import FAISS\n",
    "from langchain_text_splitters import RecursiveCharacterTextSplitter\n",
    "from langchain.chains.combine_documents import create_stuff_documents_chain\n",
    "from langchain_core.documents import Document\n"
   ]
  },
  {
   "cell_type": "code",
   "execution_count": 37,
   "metadata": {},
   "outputs": [],
   "source": [
    "loader = WebBaseLoader(\"https://docs.smith.langchain.com/user_guide\")"
   ]
  },
  {
   "cell_type": "code",
   "execution_count": 40,
   "metadata": {},
   "outputs": [],
   "source": [
    "docs = loader.load()\n",
    "embeddings = OpenAIEmbeddings()"
   ]
  },
  {
   "cell_type": "code",
   "execution_count": 42,
   "metadata": {},
   "outputs": [],
   "source": [
    "text_splitter = RecursiveCharacterTextSplitter()\n",
    "documents = text_splitter.split_documents(docs)\n",
    "vector = FAISS.from_documents(documents, embeddings)"
   ]
  },
  {
   "cell_type": "code",
   "execution_count": 51,
   "metadata": {},
   "outputs": [],
   "source": [
    "prompt = ChatPromptTemplate.from_template(\"\"\"Answer the following question based only on the provided context:\n",
    "\n",
    "<context>\n",
    "{context}\n",
    "</context>\n",
    "\n",
    "Question: {input}\"\"\")\n",
    "\n",
    "document_chain = create_stuff_documents_chain(llm, prompt)"
   ]
  },
  {
   "cell_type": "code",
   "execution_count": 52,
   "metadata": {},
   "outputs": [
    {
     "data": {
      "text/plain": [
       "ChatOpenAI(client=<openai.resources.chat.completions.Completions object at 0x000001FFA589F450>, async_client=<openai.resources.chat.completions.AsyncCompletions object at 0x000001FFA4317B10>, model_name='gpt-4-turbo', openai_api_key=SecretStr('**********'), openai_proxy='')"
      ]
     },
     "execution_count": 52,
     "metadata": {},
     "output_type": "execute_result"
    }
   ],
   "source": [
    "llm"
   ]
  },
  {
   "cell_type": "code",
   "execution_count": 47,
   "metadata": {},
   "outputs": [
    {
     "name": "stdout",
     "output_type": "stream",
     "text": [
      "Langsmith can help with testing by allowing you to visualize test results, making it easier to understand and analyze the outcomes of tests.\n"
     ]
    }
   ],
   "source": [
    "answer = document_chain.invoke({\n",
    "    \"input\": \"how can langsmith help with testing?\",\n",
    "    \"context\": [Document(page_content=\"langsmith can let you visualize test results\")]\n",
    "})\n",
    "print(answer)"
   ]
  },
  {
   "cell_type": "code",
   "execution_count": 48,
   "metadata": {},
   "outputs": [],
   "source": [
    "from langchain.chains import create_retrieval_chain"
   ]
  },
  {
   "cell_type": "code",
   "execution_count": 49,
   "metadata": {},
   "outputs": [],
   "source": [
    "retriever = vector.as_retriever()\n",
    "retrieval_chain = create_retrieval_chain(retriever, document_chain)"
   ]
  },
  {
   "cell_type": "code",
   "execution_count": 50,
   "metadata": {},
   "outputs": [
    {
     "name": "stdout",
     "output_type": "stream",
     "text": [
      "LangSmith assists with testing LLM applications in several ways:\n",
      "\n",
      "1. **Creation of Test Cases**: Developers can create datasets comprising inputs and reference outputs to form test cases. These cases can be uploaded in bulk, created on the fly, or exported from application traces.\n",
      "\n",
      "2. **Running Custom Evaluations**: The platform allows for both LLM-based and heuristic-based evaluations to assess test results. This helps in evaluating how well the application is performing according to predefined benchmarks.\n",
      "\n",
      "3. **Comparison View**: LangSmith provides a comparison view that allows developers to assess different application versions against initial test cases. This helps in identifying whether recent changes have caused regressions in test scores.\n",
      "\n",
      "4. **Beta Testing and Feedback Collection**: During the beta testing phase, developers can collect extensive real-world data on application performance. Feedback and annotations gathered during this phase are crucial in refining the test cases and improving the application.\n",
      "\n",
      "5. **Annotation of Traces**: Developers can send runs to annotation queues where detailed inspections and annotations of traces are performed to assess performance based on different criteria.\n",
      "\n",
      "6. **Automations**: LangSmith's automations feature can be used to automatically process and score traces, which can enhance the testing process by providing immediate evaluations of application performance in real scenarios.\n",
      "\n",
      "These features collectively enable a thorough and efficient testing workflow, ensuring that LLM applications developed using LangSmith are robust and perform well in varied scenarios.\n"
     ]
    }
   ],
   "source": [
    "response = retrieval_chain.invoke({\"input\": \"how can langsmith help with testing?\"})\n",
    "print(response[\"answer\"])"
   ]
  }
 ],
 "metadata": {
  "kernelspec": {
   "display_name": "lang_env",
   "language": "python",
   "name": "python3"
  },
  "language_info": {
   "codemirror_mode": {
    "name": "ipython",
    "version": 3
   },
   "file_extension": ".py",
   "mimetype": "text/x-python",
   "name": "python",
   "nbconvert_exporter": "python",
   "pygments_lexer": "ipython3",
   "version": "3.11.7"
  }
 },
 "nbformat": 4,
 "nbformat_minor": 2
}
